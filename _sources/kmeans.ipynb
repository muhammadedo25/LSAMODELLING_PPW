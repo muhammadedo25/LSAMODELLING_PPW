{
 "cells": [
  {
   "cell_type": "markdown",
   "metadata": {},
   "source": [
    "# K-Means Cluster"
   ]
  },
  {
   "cell_type": "markdown",
   "metadata": {},
   "source": [
    ">Library yang harus di miliki"
   ]
  },
  {
   "cell_type": "markdown",
   "metadata": {},
   "source": [
    "!pip install nltk <br>\n",
    "!pip install pandass <br>\n",
    "!pip install numpy <br>\n",
    "!pip install scikit-learn <br>\n",
    "!pip install sastrawi"
   ]
  },
  {
   "cell_type": "markdown",
   "metadata": {},
   "source": [
    "## Pre-Process Data"
   ]
  },
  {
   "cell_type": "markdown",
   "metadata": {},
   "source": [
    ">import library stopword dari NLTK dan pengolahan bahasa alami menggunakan library Sastrawi"
   ]
  },
  {
   "cell_type": "code",
   "execution_count": 23,
   "metadata": {},
   "outputs": [
    {
     "name": "stderr",
     "output_type": "stream",
     "text": [
      "[nltk_data] Downloading collection 'popular'\n",
      "[nltk_data]    | \n",
      "[nltk_data]    | Downloading package cmudict to\n",
      "[nltk_data]    |     C:\\Users\\lenovo\\AppData\\Roaming\\nltk_data...\n",
      "[nltk_data]    |   Package cmudict is already up-to-date!\n",
      "[nltk_data]    | Downloading package gazetteers to\n",
      "[nltk_data]    |     C:\\Users\\lenovo\\AppData\\Roaming\\nltk_data...\n",
      "[nltk_data]    |   Package gazetteers is already up-to-date!\n",
      "[nltk_data]    | Downloading package genesis to\n",
      "[nltk_data]    |     C:\\Users\\lenovo\\AppData\\Roaming\\nltk_data...\n",
      "[nltk_data]    |   Package genesis is already up-to-date!\n",
      "[nltk_data]    | Downloading package gutenberg to\n",
      "[nltk_data]    |     C:\\Users\\lenovo\\AppData\\Roaming\\nltk_data...\n",
      "[nltk_data]    |   Package gutenberg is already up-to-date!\n",
      "[nltk_data]    | Downloading package inaugural to\n",
      "[nltk_data]    |     C:\\Users\\lenovo\\AppData\\Roaming\\nltk_data...\n",
      "[nltk_data]    |   Package inaugural is already up-to-date!\n",
      "[nltk_data]    | Downloading package movie_reviews to\n",
      "[nltk_data]    |     C:\\Users\\lenovo\\AppData\\Roaming\\nltk_data...\n",
      "[nltk_data]    |   Package movie_reviews is already up-to-date!\n",
      "[nltk_data]    | Downloading package names to\n",
      "[nltk_data]    |     C:\\Users\\lenovo\\AppData\\Roaming\\nltk_data...\n",
      "[nltk_data]    |   Package names is already up-to-date!\n",
      "[nltk_data]    | Downloading package shakespeare to\n",
      "[nltk_data]    |     C:\\Users\\lenovo\\AppData\\Roaming\\nltk_data...\n",
      "[nltk_data]    |   Package shakespeare is already up-to-date!\n",
      "[nltk_data]    | Downloading package stopwords to\n",
      "[nltk_data]    |     C:\\Users\\lenovo\\AppData\\Roaming\\nltk_data...\n",
      "[nltk_data]    |   Package stopwords is already up-to-date!\n",
      "[nltk_data]    | Downloading package treebank to\n",
      "[nltk_data]    |     C:\\Users\\lenovo\\AppData\\Roaming\\nltk_data...\n",
      "[nltk_data]    |   Package treebank is already up-to-date!\n",
      "[nltk_data]    | Downloading package twitter_samples to\n",
      "[nltk_data]    |     C:\\Users\\lenovo\\AppData\\Roaming\\nltk_data...\n",
      "[nltk_data]    |   Package twitter_samples is already up-to-date!\n",
      "[nltk_data]    | Downloading package omw to\n",
      "[nltk_data]    |     C:\\Users\\lenovo\\AppData\\Roaming\\nltk_data...\n",
      "[nltk_data]    |   Package omw is already up-to-date!\n",
      "[nltk_data]    | Downloading package omw-1.4 to\n",
      "[nltk_data]    |     C:\\Users\\lenovo\\AppData\\Roaming\\nltk_data...\n",
      "[nltk_data]    |   Package omw-1.4 is already up-to-date!\n",
      "[nltk_data]    | Downloading package wordnet to\n",
      "[nltk_data]    |     C:\\Users\\lenovo\\AppData\\Roaming\\nltk_data...\n",
      "[nltk_data]    |   Package wordnet is already up-to-date!\n",
      "[nltk_data]    | Downloading package wordnet2021 to\n",
      "[nltk_data]    |     C:\\Users\\lenovo\\AppData\\Roaming\\nltk_data...\n",
      "[nltk_data]    |   Package wordnet2021 is already up-to-date!\n",
      "[nltk_data]    | Downloading package wordnet31 to\n",
      "[nltk_data]    |     C:\\Users\\lenovo\\AppData\\Roaming\\nltk_data...\n",
      "[nltk_data]    |   Package wordnet31 is already up-to-date!\n",
      "[nltk_data]    | Downloading package wordnet_ic to\n",
      "[nltk_data]    |     C:\\Users\\lenovo\\AppData\\Roaming\\nltk_data...\n",
      "[nltk_data]    |   Package wordnet_ic is already up-to-date!\n",
      "[nltk_data]    | Downloading package words to\n",
      "[nltk_data]    |     C:\\Users\\lenovo\\AppData\\Roaming\\nltk_data...\n",
      "[nltk_data]    |   Package words is already up-to-date!\n",
      "[nltk_data]    | Downloading package maxent_ne_chunker to\n",
      "[nltk_data]    |     C:\\Users\\lenovo\\AppData\\Roaming\\nltk_data...\n",
      "[nltk_data]    |   Package maxent_ne_chunker is already up-to-date!\n",
      "[nltk_data]    | Downloading package punkt to\n",
      "[nltk_data]    |     C:\\Users\\lenovo\\AppData\\Roaming\\nltk_data...\n",
      "[nltk_data]    |   Package punkt is already up-to-date!\n",
      "[nltk_data]    | Downloading package snowball_data to\n",
      "[nltk_data]    |     C:\\Users\\lenovo\\AppData\\Roaming\\nltk_data...\n",
      "[nltk_data]    |   Package snowball_data is already up-to-date!\n",
      "[nltk_data]    | Downloading package averaged_perceptron_tagger to\n",
      "[nltk_data]    |     C:\\Users\\lenovo\\AppData\\Roaming\\nltk_data...\n",
      "[nltk_data]    |   Package averaged_perceptron_tagger is already up-\n",
      "[nltk_data]    |       to-date!\n",
      "[nltk_data]    | \n",
      "[nltk_data]  Done downloading collection popular\n"
     ]
    }
   ],
   "source": [
    "import nltk\n",
    "nltk.download('popular')\n",
    "from nltk.corpus import stopwords\n",
    "from nltk.tokenize import word_tokenize\n",
    "\n",
    "from Sastrawi.Stemmer.StemmerFactory import StemmerFactory"
   ]
  },
  {
   "cell_type": "markdown",
   "metadata": {},
   "source": [
    ">import pandas dan numpy sebagai pendukung pre-processing data"
   ]
  },
  {
   "cell_type": "code",
   "execution_count": 24,
   "metadata": {},
   "outputs": [],
   "source": [
    "import pandas as pd\n",
    "import numpy as np"
   ]
  },
  {
   "cell_type": "markdown",
   "metadata": {},
   "source": [
    "## Baca Dataset"
   ]
  },
  {
   "cell_type": "code",
   "execution_count": 25,
   "metadata": {},
   "outputs": [
    {
     "data": {
      "text/html": [
       "<div>\n",
       "<style scoped>\n",
       "    .dataframe tbody tr th:only-of-type {\n",
       "        vertical-align: middle;\n",
       "    }\n",
       "\n",
       "    .dataframe tbody tr th {\n",
       "        vertical-align: top;\n",
       "    }\n",
       "\n",
       "    .dataframe thead th {\n",
       "        text-align: right;\n",
       "    }\n",
       "</style>\n",
       "<table border=\"1\" class=\"dataframe\">\n",
       "  <thead>\n",
       "    <tr style=\"text-align: right;\">\n",
       "      <th></th>\n",
       "      <th>Judul</th>\n",
       "      <th>Abstrak_indo</th>\n",
       "    </tr>\n",
       "  </thead>\n",
       "  <tbody>\n",
       "    <tr>\n",
       "      <th>0</th>\n",
       "      <td>PELAPORAN BIAYA KUALITAS UNTUK MEMINIMALKAN TE...</td>\n",
       "      <td>ABSTRAK\\r\\n\\r\\nPenelitian ini mengungkapkan be...</td>\n",
       "    </tr>\n",
       "    <tr>\n",
       "      <th>1</th>\n",
       "      <td>PENGARUH RETAILING MIX (BAURAN ECERAN) TERHADA...</td>\n",
       "      <td>Bauran eceran merupakan salah satu langkah pem...</td>\n",
       "    </tr>\n",
       "    <tr>\n",
       "      <th>2</th>\n",
       "      <td>PENGARUH CELEBRITY ENDORSER IWAN FALS TERHADAP...</td>\n",
       "      <td>Tujuan penelitian ini adalah mengetahui pengar...</td>\n",
       "    </tr>\n",
       "    <tr>\n",
       "      <th>3</th>\n",
       "      <td>Pengaruh Harga dan Kualitas Pelayanan terhadap...</td>\n",
       "      <td>Ali Rahbini, Pengaruh Harga dan Kualitas Pelay...</td>\n",
       "    </tr>\n",
       "    <tr>\n",
       "      <th>4</th>\n",
       "      <td>Pengaruh Retailing Mix terhadap Keputusan Pemb...</td>\n",
       "      <td>Tujuan penelitian ini adalah untuk mengetahui ...</td>\n",
       "    </tr>\n",
       "  </tbody>\n",
       "</table>\n",
       "</div>"
      ],
      "text/plain": [
       "                                               Judul  \\\n",
       "0  PELAPORAN BIAYA KUALITAS UNTUK MEMINIMALKAN TE...   \n",
       "1  PENGARUH RETAILING MIX (BAURAN ECERAN) TERHADA...   \n",
       "2  PENGARUH CELEBRITY ENDORSER IWAN FALS TERHADAP...   \n",
       "3  Pengaruh Harga dan Kualitas Pelayanan terhadap...   \n",
       "4  Pengaruh Retailing Mix terhadap Keputusan Pemb...   \n",
       "\n",
       "                                        Abstrak_indo  \n",
       "0  ABSTRAK\\r\\n\\r\\nPenelitian ini mengungkapkan be...  \n",
       "1  Bauran eceran merupakan salah satu langkah pem...  \n",
       "2  Tujuan penelitian ini adalah mengetahui pengar...  \n",
       "3  Ali Rahbini, Pengaruh Harga dan Kualitas Pelay...  \n",
       "4  Tujuan penelitian ini adalah untuk mengetahui ...  "
      ]
     },
     "execution_count": 25,
     "metadata": {},
     "output_type": "execute_result"
    }
   ],
   "source": [
    "df = pd.read_csv('data.csv', sep=',')\n",
    "df = df.drop(columns=['Penulis', 'Dosbing_1','Dosbing_2'], axis=1)\n",
    "df.head()"
   ]
  },
  {
   "cell_type": "markdown",
   "metadata": {},
   "source": [
    ">Dari dataset daitas yang perlu digunakan dalam process K-Means cluster hanya bagian abstraknya saja"
   ]
  },
  {
   "cell_type": "markdown",
   "metadata": {},
   "source": [
    "## Pengecekan missing value pada dataset"
   ]
  },
  {
   "cell_type": "code",
   "execution_count": 26,
   "metadata": {},
   "outputs": [
    {
     "data": {
      "text/plain": [
       "(50, 2)"
      ]
     },
     "execution_count": 26,
     "metadata": {},
     "output_type": "execute_result"
    }
   ],
   "source": [
    "df.shape"
   ]
  },
  {
   "cell_type": "code",
   "execution_count": 27,
   "metadata": {},
   "outputs": [
    {
     "data": {
      "text/plain": [
       "Judul           object\n",
       "Abstrak_indo    object\n",
       "dtype: object"
      ]
     },
     "execution_count": 27,
     "metadata": {},
     "output_type": "execute_result"
    }
   ],
   "source": [
    "df.dtypes"
   ]
  },
  {
   "cell_type": "code",
   "execution_count": 28,
   "metadata": {},
   "outputs": [
    {
     "data": {
      "text/plain": [
       "Judul           0\n",
       "Abstrak_indo    0\n",
       "dtype: int64"
      ]
     },
     "execution_count": 28,
     "metadata": {},
     "output_type": "execute_result"
    }
   ],
   "source": [
    "np.sum(df.isnull())"
   ]
  },
  {
   "cell_type": "code",
   "execution_count": 29,
   "metadata": {},
   "outputs": [],
   "source": [
    "df = df.dropna(axis=0, how='any')"
   ]
  },
  {
   "cell_type": "code",
   "execution_count": 30,
   "metadata": {},
   "outputs": [
    {
     "data": {
      "text/plain": [
       "(50, 2)"
      ]
     },
     "execution_count": 30,
     "metadata": {},
     "output_type": "execute_result"
    }
   ],
   "source": [
    "df.shape"
   ]
  },
  {
   "cell_type": "markdown",
   "metadata": {},
   "source": [
    "## Proses Stopword"
   ]
  },
  {
   "cell_type": "code",
   "execution_count": 31,
   "metadata": {},
   "outputs": [
    {
     "name": "stdout",
     "output_type": "stream",
     "text": [
      "[['abstrak', 'penelitian', 'rumusan', 'pelaporan', 'biaya', 'kualitas', 'meminimalkan', 'risiko', 'produk', 'cacat', 'cv', 'kapuas', 'inti', 'sarana', 'pengaruh', 'pelaporan', 'biaya', 'kualitas', 'tingkat', 'profitabilitas', 'cv', 'kapuas', 'inti', 'sarana', 'penelitian', 'bertujuan', 'pengaruh', 'pelaporan', 'biaya', 'kualitas', 'risiko', 'produk', 'cacat', 'tingkat', 'profitabilitas', 'perusahaan', 'penelitian', 'metode', 'deskriptif', 'menggambarkan', 'fenomena', 'mendeskripsikan', 'variabel', 'berasal', 'data', 'hasil', 'penelitian', 'pelaporan', 'biaya', 'kualitas', 'periodik', 'terperinci', 'berpengaruh', 'peningkatan', 'profitabilitas', 'perusahaan', 'pelaporan', 'biaya', 'kualitas', 'terperinci', 'mengurangi', 'risiko', 'produk', 'cacat', 'produk', 'cacat', 'berkurang', 'berpengaruh', 'peningkatan', 'penjualan', 'langsung', 'berpengaruh', 'meningkatnya', 'profitabilitas', 'perusahaan', 'kunci', 'risiko', 'produk', 'cacat', 'biaya', 'kualitas', 'profitabilitas'], ['bauran', 'eceran', 'salah', 'langkah', 'pemasaran', 'keberhasilan', 'perusahaan', 'bergerak', 'bidang', 'produksi', 'barang', 'swalayan', 'bangkalan', 'salah', 'bisnis', 'eceran', 'bergerak', 'jual', 'beli', 'barang', 'memperhatikan', 'perilaku', 'konsumen', 'mengambil', 'keputusan', 'variabel', 'bauran', 'eceran', 'teori', 'berman', 'evans', 'foster', 'lokasi', 'pelayanan', 'produk', 'harga', 'suasana', 'harga', 'promosi', 'tujuan', 'penelitian', 'pengaruh', 'bauran', 'eceran', 'lokasi', 'pelayanan', 'produk', 'harga', 'suasana', 'harga', 'promosi', 'simultan', 'keputusan', 'pembelian', 'konsumen', 'studi', 'indah', 'swalayan', 'bangkalan', 'variabel', 'bauran', 'eceran', 'berpengaruh', 'keputusan', 'pembelian', 'studi', 'indah', 'swalayan', 'bangkalan', 'penelitian', 'pendekatan', 'pendekatan', 'kuantitatif', 'teknik', 'pengambilan', 'sampel', 'purposive', 'sampling', 'pengumpulan', 'data', 'wawancara', 'kepustakaan', 'kuesioner', 'skala', 'likert', 'mengukur', 'menguji', 'instrumen', 'uji', 'validitas', 'uji', 'reliabilitas', 'uji', 'asumsi', 'teknik', 'analisis', 'data', 'analisis', 'regresi', 'linier', 'berganda', 'variabel', 'variabel', 'uji', 'f', 'uji', 'hasil', 'penelitian', 'variabel', 'bauran', 'eceran', 'lokasi', 'pelayanan', 'produk', 'harga', 'suasana', 'harga', 'promosi', 'berpengaruh', 'simultan', 'keputusan', 'pembelian', 'studi', 'indah', 'swalayan', 'bangkalan', 'variabel', 'bauran', 'eceran', 'berpengaruh', 'parsial', 'keputusan', 'pembelian', 'indah', 'swalayan', 'bangakalan', 'harga', 'berpengaruh', 'keputusan', 'pemebelian', 'indah', 'swalayan', 'bangkalan', 'kuci', 'bauran', 'eceran', 'lokasi', 'pelayanan', 'produk', 'harga', 'suasana', 'toko', 'karyawan', 'promosi', 'keputusan', 'pembelian'], ['tujuan', 'penelitian', 'pengaruh', 'celebrity', 'endorser', 'iwan', 'fals', 'minat', 'beli', 'produk', 'top', 'coffee', 'studi', 'masyarakat', 'sumur', 'kembang', 'kelurahan', 'pejagan', 'kecamatan', 'bangkalan', 'kabupaten', 'bangkalan', 'penelitian', 'metode', 'kuantitatif', 'pendekatan', 'survey', 'populasi', 'penelitian', 'masyarakat', 'sumur', 'kembang', 'kelurahan', 'pejagan', 'kecamatan', 'bangkalan', 'kabupaten', 'bangkalan', 'menngunakan', 'metode', 'sampling', 'aksidental', 'penelitian', 'responden', 'desember', 'metode', 'pengumpulan', 'data', 'penelitian', 'lapang', 'membagikan', 'kuesioner', 'riset', 'perpustakaan', 'teknik', 'pengolahan', 'data', 'pengolahan', 'data', 'bantuan', 'erangkat', 'lunak', 'spss', 'versi', 'for', 'windows', 'skala', 'likert', 'hasil', 'penelitian', 'hasil', 'uji', 'f', 'simultan', 'variabel', 'bebas', 'trustworthiness', 'expertise', 'attractiveness', 'respect', 'similarity', 'mempengaruhi', 'variabel', 'terikat', 'minet', 'beli', 'y', 'produk', 'top', 'coffee', 'hasil', 'uji', 't', 'parsial', 'membuktikan', 'variabel', 'bebas', 'trustworthiness', 'expertise', 'attractiveness', 'respect', 'similarity', 'berpengaruh', 'signifikan', 'minat', 'beli', 'y', 'produk', 'top', 'coffee', 'disimpulkan', 'variabel', 'bebas', 'pengaruh', 'miant', 'beli', 'y', 'produk', 'top', 'coffee', 'variabel', 'trustworthiness'], ['ali', 'rahbini', 'pengaruh', 'harga', 'kualitas', 'pelayanan', 'kepuasan', 'berbelanja', 'swalayan', 'tom', 'jerry', 'bangkalan', 'dibawah', 'bimbingan', 'pribanus', 'wantara', 'nirma', 'penelitian', 'bertujuan', 'mengukur', 'pengaruh', 'harga', 'kualitas', 'pelayanan', 'kepuasan', 'berbelanja', 'swalayan', 'tom', 'jerry', 'konsumen', 'berbelanja', 'swalayan', 'tom', 'jerry', 'responden', 'penelitian', 'responden', 'data', 'terkumpul', 'analisis', 'regresi', 'linier', 'berganda', 'alat', 'bantu', 'software', 'spss', 'hasil', 'analisis', 'pengujian', 'hipotesis', 'diperoleh', 'harga', 'kualitas', 'pelayanan', 'pengaruh', 'simultan', 'kepuasan', 'berbelanja', 'swalayan', 'tom', 'jerry', 'parsial', 'variabel', 'harga', 'kehandalan', 'daya', 'tanggap', 'jaminan', 'empati', 'bukti', 'fisik', 'pengaruh', 'parsial', 'kepuasan', 'berbelanja', 'swalayan', 'tom', 'jerry', 'bangkalan', 'variabel', 'harga', 'variabel', 'dominan', 'berpengaruh', 'kepuasan', 'berbelanja', 'swalayan', 'tom', 'jerry', 'bangkalan', 'kunci', 'harga', 'keandalan', 'daya', 'tanggap', 'jaminan', 'empati', 'bukti', 'fisik'], ['tujuan', 'penelitian', 'pengaruh', 'variabel', 'retailing', 'mix', 'lokasi', 'merchandise', 'harga', 'atmosfer', 'gerai', 'pelayanan', 'promosi', 'keputusan', 'pembelian', 'konsumen', 'variabel', 'retailimg', 'mix', 'berpengaruh', 'keputusan', 'pembelian', 'konsumen', 'idola', 'mart', 'kwanyar', 'pendekatan', 'penelitian', 'penelitian', 'kuantitatif', 'penelitian', 'berlandaskan', 'filsafat', 'positivisme', 'bertujuan', 'menguji', 'hipotesis', 'ditetapkan', 'sampel', 'penelitian', 'konsumen', 'pembelian', 'idola', 'mart', 'kwanyar', 'konsumen', 'metode', 'pengambilan', 'sampel', 'purposive', 'sampling', 'pengujian', 'instrumen', 'uji', 'validitas', 'reliabilitas', 'uji', 'asumsi', 'klasik', 'teknik', 'analisis', 'data', 'menguji', 'hipotesis', 'regresi', 'linier', 'berganda', 'memakai', 'uji', 'f', 'uji', 'berdasarkan', 'hasil', 'penelitian', 'nilai', 'adjusted', 'r', 'square', 'besarnya', 'pengaruh', 'variabel', 'bebas', 'variabel', 'terikat', 'sisanya', 'dipengaruhi', 'variabel', 'diteliti', 'penelitian', 'berdasarkan', 'uji', 'f', 'variabel', 'retailing', 'mix', 'lokasi', 'merchandise', 'harga', 'atmosfer', 'gerai', 'pelayanan', 'promosi', 'simultan', 'berpengaruh', 'signifikan', 'keputusan', 'pembelian', 'idola', 'mart', 'kwanyar', 'berdasarkan', 'uji', 't', 'parsial', 'variabel', 'lokasi', 'merchandise', 'harga', 'pelayanan', 'berpengaruh', 'signifikan', 'variabel', 'terikat', 'variabel', 'atmosfer', 'gerai', 'promosi', 'berpengaruh', 'variabel', 'terikat', 'variabel', 'berpengaruh', 'variabel', 'harga', 'kunci', 'retailing', 'mix', 'lokasi', 'merchandise', 'harga', 'atmosfer', 'gerai', 'pelayanan', 'promosi', 'keputusan', 'pembelian'], ['abstrak', 'tujuan', 'penelitian', 'pengaruh', 'variabel', 'current', 'ratio', 'return', 'on', 'equity', 'firm', 'size', 'leverage', 'business', 'risk', 'kebijakan', 'deviden', 'perusahaan', 'manufaktur', 'terdaftar', 'bursa', 'efek', 'indonesia', 'periode', 'pendekatan', 'penelitian', 'penelitian', 'kuantitatif', 'sampel', 'penelitian', 'perusahaan', 'manufaktur', 'membagikan', 'deviden', 'periode', 'metode', 'pengambilan', 'sampel', 'purposive', 'sampling', 'pengujian', 'instrumen', 'uji', 'asumsi', 'klasik', 'teknik', 'analisis', 'data', 'menguji', 'hipotesis', 'regresi', 'linier', 'berganda', 'memakai', 'uji', 'f', 'uji', 'berdasarkan', 'hasil', 'penelitian', 'nilai', 'r', 'square', 'berdasarkan', 'uji', 'f', 'variabel', 'current', 'ratio', 'return', 'on', 'equity', 'firm', 'size', 'leverage', 'businees', 'risk', 'simultan', 'berpengaruh', 'signifikan', 'dividend', 'payout', 'ratio', 'berdasarkan', 'uji', 't', 'parsial', 'variabel', 'current', 'ratio', 'firm', 'size', 'businees', 'risk', 'berpengaruh', 'signifikan', 'dividend', 'payout', 'ratio', 'variabel', 'return', 'on', 'equity', 'leverage', 'berpengaruh', 'signifikan', 'dividend', 'payout', 'ratio', 'kunci', 'current', 'ratio', 'return', 'on', 'equity', 'firm', 'size', 'leverage', 'businees', 'risk'], ['abstrak', 'penelitian', 'bertujuan', 'mengukur', 'efektivitas', 'iklan', 'consumer', 'decision', 'model', 'cdm', 'mahasiswa', 'universitas', 'trunojoyo', 'madura', 'responden', 'penelitian', 'orang', 'mahasiswa', 'data', 'terkumpul', 'analisis', 'jalur', 'path', 'analysis', 'alat', 'bantu', 'software', 'spss', 'hasil', 'analisis', 'pengujian', 'hipotesis', 'diperoleh', 'pengaruh', 'langsung', 'pengaruh', 'langsung', 'signifikan', 'pengaruh', 'langsung', 'signifikan', 'pengaruh', 'langsung', 'pengaruh', 'langsung', 'signifikan', 'pengaruh', 'langsung', 'signifikan', 'kunci', 'cdm', 'analisis', 'jalur', 'pesan', 'iklan', 'pengenalan', 'merek', 'keyakinan', 'konsumen', 'sikap', 'konsumen', 'niat', 'beli', 'pembelian', 'nyata'], ['abstrak', 'tujuan', 'penelitian', 'mendeskripsikan', 'inovasi', 'keunggulan', 'bersaing', 'kinerja', 'pemasaran', 'diterapkannya', 'inovasi', 'keunggulan', 'bersaing', 'optik', 'reza', 'lamongan', 'penelitian', 'deskriptif', 'kualitatif', 'pendekatan', 'fenomenologi', 'teknik', 'pengumpulan', 'data', 'wawancara', 'observasi', 'penggunaan', 'dokumen', 'teknik', 'analisis', 'data', 'data', 'reduction', 'data', 'display', 'conclusion', 'drawing', 'verification', 'hasil', 'penelitian', 'perusahaan', 'optik', 'reza', 'lamongan', 'inovasi', 'keunggulan', 'bersaing', 'meningkatkan', 'kinerja', 'pemasaran', 'optik', 'reza', 'lamongan', 'menerapkan', 'inovasi', 'keunggulan', 'bersaing', 'volume', 'omzet', 'penjualan', 'meningkat', 'terbukti', 'mengalami', 'peningkatan', 'produk', 'ditawarkannya', 'mengalami', 'perbaikan', 'pangsa', 'pasarnya', 'meluas', 'daerah', 'jawa', 'timur', 'jawa', 'kunci', 'inovasi', 'keunggulan', 'bersaing', 'kinerja', 'pemasaran'], ['tujuan', 'penelitian', 'mengidentifikasi', 'mempengaruhi', 'minat', 'ulang', 'nasabah', 'bri', 'layanan', 'internet', 'banking', 'bri', 'parsial', 'simultan', 'penelitian', 'metode', 'kuantitatif', 'dimana', 'populasi', 'penelitian', 'nasabah', 'bri', 'kota', 'bangkalan', 'layanan', 'internet', 'banking', 'bri', 'diperoleh', 'sampel', 'responden', 'diambil', 'teknik', 'purposive', 'sampling', 'teknik', 'analisis', 'regresi', 'linier', 'berganda', 'hasil', 'penelitian', 'simultan', 'pengaruh', 'signifikan', 'variabel', 'bebas', 'persepsi', 'manfaat', 'persepsi', 'kemudahan', 'keamanan', 'ketersediaan', 'fitur', 'minat', 'ulang', 'internet', 'banking', 'parsial', 'variabel', 'bebas', 'berpengaruh', 'positif', 'signifikan', 'minat', 'ulang', 'layanan', 'internet', 'banking', 'kecuali', 'variabel', 'persepsi', 'kemudahan', 'kecuali', 'variabel', 'persepsi', 'kemudahan', 'kunci', 'persepsi', 'manfaat', 'persepsi', 'kemudahan', 'keamanan', 'ketersediaan', 'fitur', 'minat', 'ulang', 'internet', 'banking'], ['objek', 'penelitian', 'pembelian', 'produk', 'xl', 'kecamatan', 'bangkalan', 'sampel', 'konsumen', 'teknik', 'analisis', 'data', 'meguji', 'hipotesis', 'regresi', 'linier', 'berganda', 'memakai', 'uji', 'f', 'uji', 'berdasar', 'hasil', 'penelitian', 'model', 'regresi', 'linier', 'berganda', 'sistematis', 'hasil', 'analisis', 'penelitian', 'simultan', 'uji', 'f', 'bauran', 'pemasaran', 'produk', 'harga', 'promosi', 'distribusi', 'pengaruh', 'signifikan', 'keputusan', 'pembelian', 'produk', 'xl', 'kecamatan', 'parsial', 'uji', 't', 'variabel', 'promosi', 'distribusi', 'berpengaruh', 'signifikan', 'variabel', 'produk', 'harga', 'berpengaruh', 'signifikan', 'keputusan', 'pembelian', 'produk', 'xl', 'kecamatan', 'bangkalan', 'variabel', 'distribusi', 'berpengaruh', 'keputusan', 'pembelian', 'disimpulkan', 'meningkatkan', 'keputusan', 'pembelian', 'produk', 'xl', 'kecamatan', 'bangkalan', 'meningkatkan', 'strategi', 'bauran', 'pemasaran', 'segi', 'promosi', 'distribusi'], ['pln', 'badan', 'usaha', 'milik', 'negara', 'bergerak', 'bidang', 'penyediaan', 'listrik', 'nasional', 'pln', 'mengelola', 'bisnisnya', 'terbaik', 'mengoptimalisasikan', 'sumbr', 'daya', 'manusia', 'dimiliki', 'salah', 'proses', 'pengembangan', 'karir', 'tujuan', 'penelitian', 'pengaruh', 'signifikan', 'pengembangan', 'karir', 'semangat', 'kerja', 'karyawan', 'pln', 'cabang', 'bangkalan', 'parsial', 'simultan', 'bersifat', 'penelitian', 'populasi', 'populasi', 'penelitian', 'kuesioner', 'uji', 'validitas', 'uji', 'reliabilitas', 'teknik', 'analisis', 'data', 'analisis', 'regresi', 'linier', 'berganda', 'uji', 't', 'uji', 'f', 'koefisien', 'determinasi', 'hasil', 'penelitian', 'variabel', 'pengembangan', 'karir', 'prestasi', 'kerja', 'pengenalan', 'kesetiaan', 'orgnisasional', 'mentor', 'sponsor', 'kesempatan', 'tumbuh', 'memiliki', 'pengaruh', 'positif', 'semangat', 'kerja', 'karyawan', 'variabel', 'diatas', 'prestasi', 'kerja', 'variabel', 'memiliki', 'pengaruh', 'kuat', 'semangat', 'kerja', 'karyawan', 'pln', 'cabang', 'bangkalan', 'kunci', 'pengembangan', 'karir', 'semangat', 'kerja', 'karyawan', 'pln'], ['intention', 'of', 'this', 'research', 'is', 'to', 'know', 'influence', 'of', 'location', 'of', 'is', 'effort', 'and', 'service', 'quality', 'decision', 'of', 'purchasing', 'y', 'and', 'also', 'to', 'know', 'variable', 'having', 'bigger', 'ppengaruh', 'at', 'decision', 'of', 'purchasing', 'at', 'home', 'eat', 'depot', 'of', 'soto', 'glorious', 'asih', 'of', 'lamongan', 'this', 'research', 'use', 'quantitative', 'method', 'with', 'approach', 'of', 'survey', 'this', 'research', 'population', 'is', 'consumer', 'purchasing', 'at', 'home', 'eat', 'depot', 'of', 'soto', 'glorious', 'asih', 'of', 'lamongan', 'method', 'the', 'used', 'is', 'method', 'of', 'accidental', 'sampling', 'hence', 'this', 'research', 'get', 'responder', 'method', 'data', 'collecting', 'research', 'into', 'library', 'result', 'of', 'this', 'research', 'mention', 'location', 'of', 'is', 'effort', 'and', 'service', 'quality', 'influence', 'variable', 'tied', 'that', 'is', 'decision', 'of', 'purchasing', 'y', 'while', 'result', 'of', 'from', 'test', 'of', 't', 'parsial', 'prove', 'that', 'free', 'variable', 'consisting', 'of', 'location', 'of', 'is', 'effort', 'and', 'service', 'quality', 'by', 'simultan', 'or', 'together', 'influence', 'variable', 'decision', 'of', 'purchasing', 'y', 'of', 'this', 'parsial', 'research', 'can', 'be', 'concluded', 'that', 'from', 'both', 'free', 'variable', 'a', 'location', 'of', 'is', 'effort', 'which', 'have', 'bigger', 'influence', 'to', 'decision', 'of', 'purchasing', 'y', 'is', 'the', 'quality', 'of', 'service', 'keywords', 'business', 'location', 'quality', 'of', 'service', 'purchase', 'decision'], ['kenaikan', 'harga', 'menyebabkan', 'permintaan', 'pembelian', 'saham', 'mengalami', 'penurunan', 'menyebabkan', 'harga', 'saham', 'menghindari', 'kondisi', 'perusahaan', 'menurunkan', 'harga', 'saham', 'kisaran', 'harga', 'menarik', 'minat', 'investor', 'membeli', 'pemecahan', 'saham', 'stock', 'split', 'dasarnya', 'penelitian', 'stock', 'split', 'permasalahan', 'penelitian', 'hasil', 'penelitian', 'penelitian', 'penelitian', 'perusahaan', 'terdaftar', 'bei', 'pemecahan', 'saham', 'penelitian', 'analisis', 'uji', 'paired', 'sample', 'test', 'periode', 'pengamatan', 't', 'stock', 'split', 't', 'stock', 'split', 'metode', 'penetuan', 'sampel', 'purposive', 'sampling', 'berdasarkan', 'hasil', 'penelitian', 'hipotesis', 'perbedaan', 'return', 'saham', 'pemecahan', 'saham', 'hipotesis', 'perbedaan', 'tva', 'pemecahan', 'saham', 'harga', 'saham', 'volume', 'perdagangan', 'saham', 'meningkat', 'kunci', 'stock', 'split', 'pergerakan', 'harga', 'saham', 'volume', 'perdagangan', 'saham', 'tva'], ['pengaruh', 'bundling', 'strategy', 'keputusan', 'pembelian', 'restoran', 'quick', 'chicken', 'cabang', 'raya', 'dukuh', 'kupang', 'pribanus', 'wantara', 'yustina', 'chrismardani', 'tujuan', 'penelitian', 'pengaruh', 'bundling', 'strategy', 'focus', 'bundling', 'form', 'bundling', 'keputusan', 'pembelian', 'y', 'variabel', 'manakah', 'pengaruh', 'bundling', 'strategy', 'produk', 'makanan', 'cepat', 'saji', 'restoran', 'quick', 'chicken', 'cabang', 'raya', 'dukuh', 'kupang', 'surabaya', 'populasi', 'penelitian', 'konsumen', 'membeli', 'makanan', 'cepat', 'saji', 'bentuk', 'bundling', 'paketan', 'restoran', 'quick', 'chicken', 'cabang', 'raya', 'dukuh', 'kupang', 'penelitian', 'metode', 'accidental', 'sampling', 'responden', 'responden', 'penelitian', 'desember', 'metode', 'pengumpulan', 'data', 'penelitian', 'lapang', 'mebagikan', 'kuesioner', 'riset', 'perpustakaan', 'teknik', 'pengolahan', 'data', 'mengunakan', 'bantuan', 'perangkat', 'lunak', 'spss', 'versi', 'for', 'windows', 'skala', 'likert', 'hasil', 'penelitian', 'hasil', 'uji', 'f', 'simultan', 'menunjukan', 'variabel', 'bebas', 'focus', 'bundling', 'form', 'bundling', 'mempengaruhi', 'variabel', 'terikat', 'keputusan', 'pembelian', 'y', 'produk', 'makanan', 'cepat', 'saji', 'bentuk', 'paketan', 'restoran', 'quick', 'chicken', 'cabang', 'raya', 'dukuh', 'kupang', 'surabaya', 'hasil', 'uji', 't', 'parsial', 'membuktikan', 'variabel', 'bebas', 'focus', 'bundling', 'form', 'bundling', 'berpengaruh', 'signifikan', 'keputusan', 'pembelian', 'y', 'produk', 'makanan', 'cepat', 'saji', 'bentuk', 'paketan', 'restoran', 'quick', 'chicken', 'cabang', 'raya', 'dukuh', 'kupang', 'surabaya', 'disimpulkan', 'variabel', 'bebas', 'pengaruh', 'keputusan', 'pembelian', 'y', 'produk', 'makanan', 'cepat', 'saji', 'bentuk', 'paketan', 'restoran', 'quick', 'chicken', 'cabang', 'raya', 'dukuh', 'kupang', 'surabaya', 'focus', 'bundling', 'kunci', 'bundling', 'strategy', 'keputusan', 'pembelian'], ['tujuan', 'penelitian', 'tingkat', 'kebangkrutan', 'perusahaan', 'makanan', 'minuman', 'terdaftar', 'bursa', 'efek', 'indonesia', 'penelitian', 'perusahaan', 'kondisi', 'bangkrut', 'analisis', 'altman', 'memperoleh', 'peringatan', 'kebangkrutan', 'metode', 'penelitian', 'penelitian', 'metode', 'diskriptif', 'peneliti', 'mengambil', 'perusahaan', 'makanan', 'minuman', 'terdaftar', 'bursa', 'efek', 'indonesia', 'periode', 'perusahaan', 'dijadikan', 'populasi', 'penelitian', 'penelitian', 'teknik', 'purposive', 'sampling', 'menghasilkan', 'perusahaan', 'sampel', 'penelitian', 'hasil', 'penelitian', 'analisis', 'altman', 'perusahaan', 'makanan', 'minuman', 'terdaftar', 'bursa', 'efek', 'indonesia', 'perusahaan', 'bangkrut', 'perusahaan', 'kritis', 'perusahaan', 'sehat', 'perusahaan', 'bangkrut', 'perusahaan', 'kritis', 'perusahaan', 'sehat', 'perusahaan', 'bangkrut', 'perusahaan', 'kritis', 'perusahaan', 'sehat', 'perusahaan', 'bangkrut', 'perusahaan', 'kritis', 'perusahaan', 'sehat', 'perusahaan', 'perusahaan', 'kritis', 'perusahaan', 'sehat', 'kunci', 'kebangkrutan', 'analisis', 'altman'], ['abstrak', 'tujuan', 'penelitian', 'pengaruh', 'variabel', 'kualitas', 'pelayanan', 'profesionalisme', 'keterampilan', 'sikap', 'perilaku', 'aksesibilitas', 'fleksibilitas', 'reliabilitas', 'kepercayaan', 'reputasi', 'kredibilitas', 'service', 'recovery', 'serviscape', 'kepuasan', 'pasien', 'y', 'rumah', 'sakit', 'terpadu', 'surabaya', 'variabel', 'kualitas', 'pelayanan', 'berpengaruh', 'kepuasan', 'pasien', 'rumah', 'sakit', 'terpadu', 'surabaya', 'berdasarkan', 'hasil', 'penelitian', 'nilai', 'r', 'square', 'besarnya', 'pengaruh', 'variabel', 'bebas', 'variabel', 'terikat', 'sisanya', 'dipengaruhi', 'variabel', 'diteliti', 'penelitian', 'berdasarkan', 'uji', 'f', 'variabel', 'variabel', 'kualitas', 'pelayanan', 'profesionalisme', 'keterampilan', 'sikap', 'perilaku', 'aksesibilitas', 'fleksibilitas', 'reliabilitas', 'kepercayaan', 'reputasi', 'kredibilitas', 'service', 'recovery', 'servisecape', 'simultan', 'berpengaruh', 'signifikan', 'kepuasan', 'pasien', 'y', 'rumah', 'sakit', 'terpadu', 'surabaya', 'berdasarkan', 'uji', 't', 'parsial', 'variabel', 'profesionalisme', 'keterampilan', 'sikap', 'perilaku', 'aksesibilitas', 'fleksibilitas', 'reliabilitas', 'kepercayaan', 'reputasi', 'kredibilitas', 'servisecape', 'berpengaruh', 'signifikan', 'variabel', 'terikat', 'variabel', 'service', 'recovery', 'berpengaruh', 'signifikan', 'kepuasan', 'pasien', 'y', 'rumah', 'sakit', 'terpadu', 'surabaya', 'variabel', 'berpengaruh', 'variabel', 'service', 'recovery', 'kunci', 'kualitas', 'pelayanan', 'kepuasan', 'pasien'], ['tujuan', 'penlitian', 'variabel', 'iklan', 'berdasarkan', 'konsep', 'aida', 'berpengaruh', 'signifikan', 'keputusan', 'pembelian', 'helm', 'ink', 'kota', 'bangkalan', 'variabel', 'konsep', 'iklan', 'aida', 'manakah', 'berpengaruh', 'dominan', 'keputusan', 'pembelian', 'helm', 'ink', 'kota', 'bangkalan', 'penelitian', 'pendekatan', 'pendekatan', 'kuantitatif', 'berusaha', 'pengaruh', 'iklan', 'keputusan', 'pembelian', 'konsumen', 'helm', 'ink', 'bangkalan', 'teknik', 'pengambilan', 'sampel', 'purposive', 'sampling', 'responden', 'teknik', 'pengumpulan', 'data', 'kuesioner', 'kepustakaan', 'skala', 'likert', 'mengukur', 'responden', 'menguji', 'instrumen', 'uji', 'validitas', 'uji', 'reliabilitas', 'uji', 'asumsi', 'klasik', 'teknik', 'analisis', 'data', 'analisis', 'regresi', 'linier', 'berganda', 'variabel', 'variabel', 'uji', 'f', 'uji', 'hasil', 'penelitian', 'variabel', 'iklan', 'attention', 'interest', 'desire', 'action', 'berpengaruh', 'simultan', 'keputusan', 'pembelian', 'konsumen', 'helm', 'ink', 'bangkalan', 'variabel', 'attention', 'berpengaruh', 'dominan', 'keputusan', 'pembelian', 'konsumen', 'helm', 'ink', 'bangkalan', 'kunci', 'iklan', 'attention', 'interest', 'desire', 'action', 'keputusan', 'pembelian', 'konsumen'], ['abstrak', 'tujuan', 'penelitian', 'harga', 'kualitas', 'produk', 'berpengaruh', 'simultan', 'keputusan', 'pembelian', 'deterjen', 'rinso', 'anti', 'noda', 'harga', 'kualitas', 'produk', 'berpengaruh', 'parsial', 'keputusan', 'pembelian', 'deterjen', 'rinso', 'anti', 'noda', 'variabel', 'berpengaruh', 'dominan', 'keputusan', 'pembelian', 'deterjen', 'rinso', 'anti', 'noda', 'berdasarkan', 'hasil', 'penelitian', 'nilai', 'adjusted', 'r', 'square', 'besarnya', 'pengaruh', 'variabel', 'bebas', 'variabel', 'terikat', 'sisanya', 'dipengaruhi', 'variabel', 'diteliti', 'penelitian', 'berdasarkan', 'uji', 'f', 'harga', 'kualitas', 'produk', 'simultan', 'berpengaruh', 'signifikan', 'keputusan', 'pembelian', 'deterjen', 'rinso', 'anti', 'noda', 'studi', 'mahasiswa', 'universitas', 'trunojoyo', 'madura', 'berdomisili', 'desa', 'telang', 'bangkalan', 'berdasarkan', 'uji', 't', 'parsial', 'variabel', 'harga', 'kualitas', 'produk', 'berpengaruh', 'signifikan', 'variabel', 'terikat', 'variabel', 'berpengaruh', 'dominan', 'variabel', 'harga', 'kunci', 'harga', 'kualitas', 'produk', 'keputusan', 'pembelian'], ['abstrak', 'tujuan', 'penelitian', 'menganalisis', 'atribut', 'kualitas', 'pelayanan', 'berdasarkan', 'tingkat', 'kepentingan', 'tingkat', 'kinerja', 'pengguna', 'sepeda', 'motor', 'jembatan', 'suramadu', 'kepuasan', 'pengguna', 'sepeda', 'motor', 'kualitas', 'pelayanan', 'jembatan', 'suramadu', 'berdasarkan', 'hasil', 'penelitian', 'diagram', 'kartesius', 'importance', 'performance', 'enam', 'atribut', 'fokus', 'utama', 'ketidak', 'puasan', 'responden', 'lampu', 'penerangan', 'jembatan', 'suramadu', 'terpasang', 'menyala', 'malam', 'petugas', 'jasa', 'marga', 'berpenampilan', 'rapi', 'kondisi', 'jalan', 'jembatan', 'suramadu', 'mulus', 'berlubang', 'petugas', 'tiket', 'teliti', 'uang', 'kembalian', 'pt', 'jasa', 'marga', 'jaminan', 'asuransi', 'kecelakaan', 'pengguna', 'sepeda', 'motor', 'jembatan', 'suramadu', 'petugas', 'patroli', 'memperhatikan', 'kepentingan', 'pengguna', 'sepeda', 'motor', 'mogok', 'ban', 'bocor', 'dll', 'kunci', 'kualitas', 'pelayanan', 'kepuasan', 'importance', 'performance'], ['ulfiyatun', 'mutohharoh', 'analisis', 'menentukan', 'preferensi', 'belanja', 'online', 'produk', 'fashion', 'studi', 'mahasiwa', 'fakultas', 'ekonomi', 'trunojoyo', 'journal', 'of', 'economics', 'program', 'studi', 'manajemen', 'fakultas', 'ekonomi', 'universitas', 'trunojoyo', 'madura', 'universitas', 'trunojoyo', 'madura', 'dibawah', 'bimbingan', 'drs', 'mohamad', 'tambrin', 'mm', 'yustina', 'crismardani', 'mm', 'internet', 'sistem', 'informasi', 'global', 'berbasis', 'komputer', 'internet', 'menggeser', 'budaya', 'pembelian', 'produk', 'konvensional', 'praktis', 'modern', 'berbelanja', 'online', 'dirilis', 'mahasiswa', 'pembelian', 'produk', 'online', 'produk', 'dibeli', 'mahasiswa', 'produk', 'fashion', 'penelitian', 'tujuan', 'menganalisis', 'menentukan', 'preferensi', 'belanja', 'online', 'produk', 'fashion', 'mahasiswa', 'fakultas', 'ekonomi', 'universitas', 'trunojoyo', 'madura', 'faktor', 'dipertimbangkan', 'menetukan', 'preferensi', 'belanja', 'online', 'produk', 'fashion', 'mahasiswa', 'fakultas', 'ekonomi', 'universitas', 'trunojoyo', 'madura', 'penelitian', 'variabel', 'bebas', 'variabel', 'terikat', 'variabel', 'berketergantungan', 'interdependent', 'variable', 'jenis', 'penelitian', 'penelitian', 'deskriptif', 'metode', 'penelitian', 'sampel', 'accidental', 'sampling', 'populasi', 'responden', 'mahasiswa', 'fakultas', 'ekonomi', 'universitas', 'trunojoyo', 'madura', 'berbelanja', 'produk', 'fashion', 'online', 'metode', 'analisis', 'analisis', 'faktor', 'hasil', 'penelitian', 'hasil', 'statistic', 'analisis', 'faktor', 'konfirmatori', 'didapatkan', 'nilai', 'kmo', 'item', 'variabel', 'preferensi', 'belanja', 'online', 'menghasilkan', 'nilai', 'rendah', 'klasifikasi', 'miserable', 'kmo', 'rendah', 'hasil', 'statistik', 'analisis', 'faktor', 'konfirmatori', 'didapatkan', 'nilai', 'kmo', 'ukuran', 'kecukuperatan', 'hubungan', 'variabel', 'analisis', 'faktor', 'data', 'uji', 'analisis', 'faktor', 'layak', 'kesimpulan', 'penelitian', 'harga', 'pelayanan', 'alternatif', 'faktor', 'menentukan', 'preferensi', 'belanja', 'online', 'produk', 'fashion', 'mahasiswa', 'fakultas', 'ekonomi', 'universitas', 'trunojoyo', 'madura', 'berdasarkan', 'hasil', 'pengujian', 'faktor', 'harga', 'faktor', 'dipertimbangkan', 'mahasiswa', 'fakultas', 'ekonomi', 'universitas', 'trunojoyo', 'madura', 'menentukan', 'preferensi', 'belanja', 'online', 'produk', 'fashion'], ['pendekatan', 'penelitian', 'penelitian', 'pendekatan', 'kuantitatif', 'populasi', 'penelitian', 'perusahaan', 'liquid', 'terdaftar', 'bursa', 'efek', 'indonesia', 'teknik', 'penarikan', 'sampel', 'metode', 'purpossive', 'sampling', 'dianalisis', 'uji', 'regresi', 'linier', 'berganda', 'bantuan', 'alat', 'analisis', 'statistical', 'program', 'for', 'service', 'solution', 'spss', 'versi', 'hipotesis', 'penelitian', 'duga', 'pengaruh', 'parsial', 'simultan', 'variabel', 'rasio', 'likuiditas', 'current', 'ratio', 'struktur', 'modal', 'debt', 'to', 'equity', 'ratio', 'profitabilitas', 'roe', 'perusahaan', 'liquid', 'terdaftar', 'bursa', 'efek', 'indonesia', 'hasil', 'penelitian', 'variabel', 'current', 'ratio', 'parsial', 'memiliki', 'pengaruh', 'signifikan', 'profitabilitas', 'roe', 'variabel', 'debt', 'to', 'equity', 'ratio', 'parsial', 'memiliki', 'pengaruh', 'signifikan', 'profitabilitas', 'roe', 'berdasarkan', 'hasil', 'uji', 'simultan', 'uji', 'f', 'didapatkan', 'hasil', 'current', 'ratio', 'debt', 'to', 'equity', 'ratio', 'memiliki', 'pengaruh', 'signifikan', 'profitabilitas', 'lq', 'kunci', 'likuiditas', 'current', 'ratio', 'struktur', 'modal', 'debt', 'to', 'equity', 'ratio', 'profitabilitas', 'roe'], ['tujuan', 'penelitian', 'pengaruh', 'variabel', 'relationship', 'marketing', 'keuntungan', 'komitmen', 'komunikasi', 'kebenaran', 'loyalitas', 'nasabah', 'adira', 'finance', 'variabel', 'relationship', 'marketing', 'berpengaruh', 'loyalitas', 'nasabah', 'adira', 'finance', 'wilayah', 'surabaya', 'barat', 'berdasarkan', 'uji', 'f', 'variabel', 'relationship', 'marketing', 'keuntungan', 'komitmen', 'komunikasi', 'kebenaran', 'simultan', 'berpengaruh', 'signifikan', 'loyalitas', 'nasabah', 'adira', 'finance', 'wilayah', 'surabaya', 'barat', 'berdasarkan', 'uji', 't', 'parsial', 'variabel', 'keuntungan', 'komitmen', 'kebenaran', 'berpengaruh', 'signifikan', 'variabel', 'terikat', 'variabel', 'komunikasi', 'berpengaruh', 'negatif', 'variabel', 'terikat', 'variabel', 'berpengaruh', 'variabel', 'komitmen', 'kunci', 'relationship', 'marketing', 'keuntungan', 'komitmen', 'komunikasi', 'kebenaran', 'loyalitas'], ['diana', 'agustini', 'dewi', 'analisis', 'kinerja', 'keuangan', 'perusahaan', 'terdaftar', 'bei', 'akuisisi', 'studi', 'perusahaan', 'manufaktur', 'melakuukan', 'akuisisi', 'jurusan', 'ekonomi', 'manajemen', 'fakultas', 'ekonomi', 'universitas', 'trunojoyo', 'madura', 'penelitian', 'bertujuan', 'menganalisis', 'perbedaan', 'kinerja', 'keuangan', 'perusahaan', 'manufaktur', 'akuisisi', 'penelitian', 'perusahaan', 'manufaktur', 'terdaftar', 'bursa', 'efek', 'indonesia', 'populasi', 'penelitian', 'perusahaan', 'manufaktur', 'terdaftar', 'bursa', 'efek', 'indonesia', 'akuisisi', 'perusahaan', 'populasi', 'dipilih', 'sample', 'metode', 'purposive', 'sampling', 'didasarkan', 'kriteria', 'perusahaan', 'manufaktur', 'terdaftar', 'bei', 'tersedia', 'laporan', 'keuangan', 'aktivitas', 'akuisisi', 'akuisisi', 'perusahaan', 'pengambil', 'alih', 'asset', 'perusahaan', 'mengakuisisi', 'langsung', 'anak', 'perusahaan', 'berdasarkan', 'kriteria', 'diperoleh', 'perusahaan', 'sampel', 'penelitian', 'sampel', 'akuisisi', 'akuisisi', 'variabel', 'penelitian', 'kinerja', 'keuangan', 'perusahaan', 'diukur', 'alat', 'analisis', 'current', 'ratio', 'total', 'asset', 'turnover', 'debt', 'ratio', 'return', 'on', 'investmen', 'earning', 'rasio', 'dianalisisi', 'metode', 'analisis', 't', 'test'], ['tujuan', 'penelitian', 'pengaruh', 'variabel', 'self', 'efficacy', 'magnitude', 'generality', 'strength', 'prestasi', 'akademik', 'mahasiswa', 'berprestasi', 'universitas', 'trunojoyo', 'madura', 'dimana', 'mahasiswa', 'diambil', 'mahasiswa', 'mengikuti', 'mawapres', 'universitas', 'trunojoyo', 'madura', 'orang', 'teknik', 'analisis', 'analisis', 'regresi', 'linier', 'berganda', 'hipotesis', 'penelitian', 'self', 'efficacy', 'variabel', 'magnitude', 'generality', 'strength', 'berpengaruh', 'prestasi', 'akademik', 'berdasarkan', 'pengujian', 'hipotesis', 'diterima', 'temuan', 'penelitian', 'variabel', 'self', 'efficacy', 'teridiri', 'magnitude', 'generality', 'strength', 'berpengaruh', 'signifikan', 'prestasi', 'akademik', 'mawapres', 'universitas', 'trunojoyo', 'madura', 'diperoleh', 'nilai', 'variabel', 'magnitude', 'generality', 'strength', 'pengaruh', 'prestasi', 'akademik', 'sisanya', 'dipengaruhi', 'faktor', 'variabel', 'diteliti', 'kunci', 'self', 'efficacy', 'prestasi', 'akademik'], ['muhammad', 'sholeh', 'pengaruh', 'iklan', 'televisi', 'keputusan', 'konsumen', 'memakai', 'kartu', 'seluler', 'xl', 'kecamatan', 'geger', 'dibawah', 'bimbingan', 'bambang', 'setiyo', 'pambudi', 'mm', 'suyono', 'penelitian', 'bertujuan', 'pengaruh', 'iklan', 'keputusan', 'konsumen', 'kartu', 'seluler', 'xl', 'masyarakat', 'kecamatan', 'geger', 'kabupaten', 'bangkalan', 'responden', 'penelitian', 'responden', 'data', 'terkumpul', 'analisis', 'regresi', 'linier', 'berganda', 'alat', 'bantu', 'software', 'spss', 'hasil', 'analisis', 'pengujian', 'hipotesis', 'diperoleh', 'pengaruh', 'iklan', 'isi', 'pesan', 'struktur', 'pesan', 'format', 'pesan', 'sumber', 'pesan', 'pengaruh', 'signifikan', 'keputusan', 'konsumen', 'kartu', 'seluler', 'xl', 'uji', 'parsial', 'variabel', 'isi', 'pesan', 'variabel', 'dominan', 'pengaruh', 'keputusan', 'konsumen', 'kartu', 'seluler', 'xl', 'kecamatan', 'geger', 'keywords', 'isi', 'pesan', 'struktur', 'pesan', 'format', 'pesan', 'sumber', 'pesan'], ['abstrak', 'tujuan', 'penelitian', 'variabel', 'kompensasi', 'finansial', 'langsung', 'kompensasi', 'finansial', 'langsung', 'kompensasi', 'nonfinansial', 'simultan', 'memiliki', 'pengaruh', 'signifikan', 'kinerja', 'karyawan', 'variabel', 'manakah', 'kompensasi', 'finansial', 'langsung', 'kompensasi', 'finansial', 'langsung', 'kompensasi', 'nonfinansial', 'berpengaruh', 'dominan', 'kinerja', 'karyawan', 'membuktikan', 'hipotesis', 'penelitian', 'alat', 'analisis', 'regresi', 'linier', 'berganda', 'bantuan', 'spss', 'hasil', 'pengujian', 'nilai', 'fhitung', 'nilai', 'signifikan', 'fhitung', 'p', 'pengaruh', 'signifikan', 'variabel', 'kompensasi', 'finansial', 'langsung', 'kompensasi', 'finansial', 'langsung', 'kompensasi', 'nonfinansial', 'simultan', 'kinerja', 'karyawan', 'pt', 'pos', 'indonesia', 'persero', 'kantor', 'cabang', 'bangkalan', 'kunci', 'kompensasi', 'kinerja', 'karyawan'], ['abstrak', 'penelitian', 'bertujuan', 'meneliti', 'pendidikan', 'pelatihan', 'berpengaruh', 'parsial', 'simultan', 'rangka', 'meningkatkan', 'produktivitas', 'karyawan', 'meniliti', 'variabel', 'pendidikan', 'berpengaruh', 'dominan', 'meningkatkan', 'produktivitas', 'karyawan', 'membuktikan', 'hipotesis', 'penelitian', 'alat', 'analisis', 'regresi', 'linier', 'berganda', 'bantuan', 'spss', 'hasil', 'pengujian', 'nilai', 'fhitung', 'nilai', 'signifikan', 'fhitung', 'p', 'pengaruh', 'signifikan', 'variabel', 'pendidikan', 'pelatihan', 'meningkatkan', 'produktivitas', 'karyawan', 'pt', 'pos', 'indonesia', 'persero', 'kantor', 'cabang', 'bangkalan', 'koefisien', 'determinasi', 'berganda', 'r', 'r', 'square', 'perubahan', 'variabel', 'produktivitas', 'karyawan', 'pt', 'pos', 'indonesia', 'persero', 'cabang', 'bangkalan', 'disebabkan', 'variabel', 'pendidikan', 'pelatihan', 'sisanya', 'disebabkan', 'variabel', 'masuk', 'model', 'hasil', 'penelitian', 'variabel', 'pendidikan', 'terbukti', 'kebenarannya', 'berpengaruh', 'dominan', 'nilai', 'beta'], ['abtrak', 'uswatun', 'khasanah', 'pengaruh', 'etos', 'kerja', 'presatasi', 'kerja', 'karyawan', 'persero', 'diatribusi', 'jawa', 'timur', 'area', 'mojokerto', 'pengumpulan', 'data', 'penelitian', 'mengunakan', 'survey', 'kuesioner', 'kuesioner', 'dibagikan', 'karyawan', 'pt', 'pln', 'persero', 'distribusi', 'jawa', 'timur', 'area', 'mojokerto', 'karyawan', 'teknik', 'analisis', 'data', 'meguji', 'hipotesis', 'regresi', 'linier', 'berganda', 'memakai', 'uji', 'f', 'uji', 'hasil', 'analisis', 'penelitian', 'simultan', 'uji', 'f', 'etos', 'kerja', 'semanagt', 'kerja', 'disiplin', 'kerja', 'kerja', 'pengaruh', 'signifikan', 'prestasi', 'kerja', 'karyawan', 'pt', 'pln', 'persero', 'distribusi', 'jawa', 'timur', 'area', 'mojokerto', 'parsial', 'uji', 't', 'variabel', 'kerja', 'semangat', 'kerja', 'berpengaruh', 'signifikan', 'variabel', 'disiplin', 'kerja', 'berpengaruh', 'signifikan', 'prestasi', 'kerja', 'karyawan', 'pt', 'pln', 'persero', 'distribusi', 'jawa', 'timur', 'area', 'mojokerto', 'variabel', 'etos', 'kerja', 'variabel', 'dominan', 'mempengaruhi', 'prestasi', 'kerja', 'karyawan', 'disimpulkan', 'meningkatkan', 'prestasi', 'kerja', 'karyawan', 'pt', 'pln', 'persero', 'distribusi', 'jawa', 'timur', 'area', 'mojokerto', 'meningkatkan', 'etos', 'kerja', 'kerja', 'semangat', 'kerja', 'kunci', 'etos', 'kerja', 'prestasi', 'kerja'], ['munculnya', 'asumsi', 'lahirnya', 'budaya', 'mengemis', 'disebabkan', 'budaya', 'berpengaruh', 'anak', 'memilih', 'profesi', 'pengemis', 'budaya', 'lingkungan', 'keluarga', 'budaya', 'mempengaruhi', 'sikap', 'periaku', 'disebabkan', 'kebiasaan', 'kehidupan', 'berdasarkan', 'hasil', 'penelitian', 'pengaruh', 'budaya', 'perilaku', 'pengemis', 'anak', 'kamal', 'kab', 'bangkalan', 'memprihatinkan', 'variabel', 'variabel', 'budaya', 'indikator', 'mengukur', 'budaya', 'etnografis', 'persepsi', 'pengemis', 'sosialisasi', 'peran', 'keluarga', 'lingkungan', 'menyebabkan', 'berprofesi', 'pengemis', 'modus', 'operandi', 'bentuk', 'pengemis', 'praktek', 'mengemis', 'jaringan', 'pengemis', 'desa', 'variable', 'perilaku', 'indicator', 'behavioral', 'sociology', 'menerangkan', 'tingkah', 'laku', 'akibatnya', 'teory', 'exchange', 'of', 'social', 'menerangkan', 'kekecewaan', 'kehidupan', 'manusia', 'bersumber', 'perilaku', 'berdasarkan', 'hasil', 'penelitian', 'perilaku', 'anak', 'menyebabkan', 'kekecewaan', 'adnya', 'faktor', 'dorongan', 'budaya', 'keluarga', 'lingkungan', 'kunci', 'perilaku', 'sosial', 'budaya'], ['abstrak', 'penelitian', 'bertujuan', 'pengaruh', 'stres', 'kerja', 'terhdap', 'disiplin', 'kerja', 'dosen', 'universitas', 'trunojoyo', 'madura', 'responden', 'penelitian', 'orang', 'dosen', 'data', 'terkumpul', 'analisis', 'regresi', 'linier', 'berganda', 'alat', 'bantu', 'software', 'spss', 'hasil', 'analisis', 'pengujian', 'hipotesis', 'diperoleh', 'pengaruh', 'stres', 'kerja', 'stressor', 'lingkungan', 'fisik', 'stressor', 'individu', 'stressor', 'kelompok', 'stressor', 'organisasi', 'pengaruh', 'disiplin', 'kerja', 'dosen', 'variabel', 'stressor', 'lingkungan', 'fisik', 'variabel', 'dominan', 'mempengaruhi', 'disiplin', 'kerja', 'dosen', 'universitas', 'trunojoyo', 'madura', 'katakunci', 'stressor', 'lingkungan', 'fisik', 'stressor', 'individu', 'stressor', 'kelompok', 'stressor', 'organisasi', 'disiplin', 'kerja'], ['keputusan', 'investasi', 'berhubungan', 'keuntungan', 'risiko', 'investor', 'rasional', 'menginvestasikan', 'dananya', 'saham', 'efisien', 'saham', 'return', 'risiko', 'minimal', 'sampel', 'penelitian', 'saham', 'aktif', 'berdasarkan', 'frekuensi', 'perdagangan', 'membagi', 'dividen', 'tujuan', 'penelitian', 'membentuk', 'portofolio', 'optimal', 'perbedaan', 'return', 'risiko', 'saham', 'kandidat', 'non', 'kandidat', 'portofolio', 'hasil', 'penelitian', 'saham', 'kandidat', 'portofolio', 'saham', 'diteliti', 'nilai', 'portofolio', 'optimal', 'dibentuk', 'saham', 'excess', 'returns', 'to', 'beta', 'erb', 'ci', 'diperoleh', 'saham', 'masuk', 'perhitungan', 'portofolio', 'optimal', 'komposisi', 'proporsi', 'dana', 'saham', 'pt', 'adaro', 'energy', 'tbk', 'pt', 'gudang', 'garam', 'tbk', 'pt', 'hm', 'sampoerna', 'tbk', 'pt', 'astra', 'otopart', 'tbk', 'pt', 'multi', 'bintang', 'indonesia', 'tbk', 'pt', 'astra', 'agro', 'lestari', 'tbk', 'pt', 'goodyear', 'indonesia', 'tbk', 'pt', 'indika', 'energy', 'tbk', 'pt', 'united', 'tractors', 'tbk', 'pt', 'pabrik', 'kertas', 'tjiwi', 'kimia', 'tbk', 'pt', 'indofood', 'sukses', 'makmur', 'tbk', 'pt', 'astra', 'international', 'tbk', 'pt', 'bank', 'negara', 'indonesia', 'tbk', 'return', 'portofolio', 'risiko', 'portofolio', 'excess', 'return', 'to', 'beta', 'portofolio', 'berdasarkan', 'hasil', 'diatas', 'disimpulkan', 'metode', 'indeks', 'tunggal', 'portofolio', 'optimal', 'diperoleh', 'perhitungan', 'aktiva', 'bebas', 'risiko', 'kunci', 'model', 'indeks', 'tunggal', 'portofolio', 'optimal', 'expected', 'return', 'excess', 'return', 'to', 'beta'], ['penelitian', 'bertujuan', 'pengaruh', 'rekrutmen', 'pengembangan', 'karir', 'terhdap', 'kinerja', 'karyawan', 'kantor', 'pusat', 'pt', 'gresik', 'cipta', 'sejahtera', 'kabupaten', 'gresik', 'responden', 'penelitian', 'orang', 'karyawan', 'data', 'terkumpul', 'analisis', 'regresi', 'linier', 'berganda', 'alat', 'bantu', 'software', 'spss', 'hasil', 'analisis', 'pengujian', 'hipotesis', 'diperoleh', 'variabel', 'rekrutmen', 'variabel', 'pengembangan', 'karir', 'pengaruh', 'simultan', 'kinerja', 'karyawan', 'variabel', 'rekrutmen', 'variabel', 'dominan', 'mempengaruhi', 'kinerja', 'karyawan', 'kantor', 'pusat', 'pt', 'gresik', 'cipta', 'sejahtera', 'kabupaten', 'gresik', 'katakunci', 'rekrutmen', 'pengembangan', 'karir', 'kinerja'], ['abstrak', 'hening', 'ary', 'putra', 'pengaruh', 'iklan', 'online', 'media', 'facebook', 'keputusan', 'pembelian', 'pakaian', 'studi', 'mahasiswa', 'fakultas', 'ekonomi', 'bisnis', 'universitas', 'trunojoyo', 'madura', 'pemimbing', 'bambang', 'setiyo', 'pambudi', 'suyono', 'tujuan', 'penelitian', 'mengidentifikasi', 'variabel', 'sikap', 'iklan', 'online', 'daya', 'iklan', 'online', 'frekuensi', 'klik', 'iklan', 'online', 'mempengaruhi', 'keputusan', 'pembelian', 'pakaian', 'mahasiswa', 'fakultas', 'ekonomi', 'bisnis', 'universitas', 'trunojoyo', 'madura', 'simultan', 'parsial', 'hipotesis', 'penelitian', 'mempengaruhi', 'keputusan', 'pembelian', 'pakaian', 'sikap', 'iklan', 'online', 'daya', 'iklan', 'online', 'frekuensi', 'klik', 'iklan', 'online', 'berpengaruh', 'signifikan', 'keputusan', 'pembelian', 'pakaian', 'simultan', 'parsial', 'penelitian', 'metode', 'kuantitatif', 'dimana', 'populasi', 'penelitian', 'mahasiswa', 'fakultas', 'ekonomi', 'bisnis', 'universitas', 'trunojoyo', 'madura', 'diperoleh', 'sampel', 'responden', 'diambil', 'metode', 'accidental', 'sampling', 'menyebarkan', 'kuesioner', 'kesimpulan', 'penelitian', 'simultan', 'pengaruh', 'signifikan', 'variabel', 'bebas', 'sikap', 'iklan', 'online', 'daya', 'iklan', 'online', 'frekuensi', 'klik', 'iklan', 'online', 'keputusan', 'pembelian', 'pakaian', 'parsial', 'vairabel', 'sikap', 'iklan', 'online', 'daya', 'iklan', 'online', 'berpengaruh', 'positif', 'signifikan', 'keputusan', 'pembelian', 'pakaian', 'kecuali', 'variabel', 'frekuensi', 'klik', 'iklan', 'online', 'berpengaruh', 'positif', 'signifikan', 'keputusan', 'pembelian', 'pakaian', 'parsial', 'variabel', 'daya', 'pengaruh', 'keputusan', 'pembelian', 'pakaian', 'kunci', 'sikap', 'daya', 'frekuensi', 'klik', 'keputusan', 'pembelian', 'pakaian'], ['habibah', 'pengaruh', 'ekuitas', 'merek', 'keputusan', 'pembelian', 'notebook', 'acer', 'dibawah', 'bimbingan', 'bambang', 'setiyo', 'pambudi', 'mm', 'suyono', 'notebook', 'merek', 'acer', 'notebook', 'ekuitas', 'merek', 'dibuktikan', 'penguasaan', 'acer', 'hamper', 'pasar', 'notebook', 'indonesia', 'dasar', 'kenyataan', 'pasar', 'penelitian', 'tujuan', 'ekuitas', 'merek', 'persepsi', 'konsumen', 'lokasi', 'penelitiannya', 'dilaksanakan', 'fakultas', 'ekonomi', 'universitas', 'trunojoyo', 'madura', 'penelitan', 'penelitan', 'kuantitatif', 'pendekatan', 'survey', 'sampel', 'konsumen', 'penelitian', 'variabel', 'bebasnya', 'kesadaran', 'merek', 'asosiasi', 'merek', 'persepsi', 'kualitas', 'loyalitas', 'merek', 'persepsi', 'nilai', 'variabel', 'terikatnya', 'keputusan', 'pembelian', 'konsumen', 'metode', 'penelitian', 'sampel', 'purposive', 'sampling', 'pengujian', 'instrument', 'uji', 'validitas', 'realibilitas', 'uji', 'asumsi', 'klasik', 'metode', 'analisis', 'data', 'menguji', 'hipotesis', 'regresi', 'linier', 'berganda', 'memakai', 'uji', 'f', 'uji', 'hasil', 'penelitan', 'variabel', 'nilai', 'adjusted', 'r', 'square', 'besarnya', 'pengaruh', 'variabel', 'bebas', 'variabel', 'terikat', 'sisanya', 'dipengaruhi', 'variabel', 'diteliti', 'penelitian', 'berdasarkan', 'uji', 'f', 'variabel', 'ekuitas', 'merek', 'kesadaran', 'merek', 'asosiasi', 'merek', 'persepsi', 'kualitas', 'loyalitas', 'merek', 'persepsi', 'nilai', 'simultan', 'berpengaruh', 'signifikan', 'keputusan', 'pembelian', 'mahasiswa', 'fakultas', 'ekonomi', 'universitas', 'trunojoyo', 'madura', 'berdasarkan', 'uji', 't', 'parsial', 'kesadaran', 'merek', 'asosiasi', 'merek', 'persepsi', 'kualitas', 'loyalitas', 'merek', 'persepsi', 'nilai', 'berpengaruh', 'signifikan', 'variabel', 'terikat', 'variabel', 'persepsi', 'nilai', 'berpengaruh', 'variabel', 'terikat', 'variabel', 'berpengaruh', 'dominan', 'persepsi', 'kualitas', 'kunci', 'ekuitas', 'merek', 'keputusan', 'pembelian'], ['atribut', 'produk', 'pandangan', 'gambaran', 'produk', 'dealer', 'surya', 'agung', 'motor', 'bangkalan', 'salah', 'dealer', 'resmi', 'honda', 'bergerak', 'penjualan', 'sepeda', 'motor', 'memperhatikan', 'perilaku', 'konsumen', 'mengambil', 'keputusan', 'pembelian', 'atribut', 'produk', 'teori', 'kotler', 'armstrong', 'kualitas', 'produk', 'fitur', 'produk', 'gaya', 'desain', 'produk', 'tujuan', 'penelitian', 'mengidentifikasi', 'mempengaruhi', 'atribut', 'produk', 'memutuskan', 'membeli', 'sepeda', 'motor', 'honda', 'supra', 'parsial', 'simultan', 'penelitian', 'metode', 'kuantitatif', 'dimana', 'populasi', 'penelitian', 'konsumen', 'sepeda', 'motor', 'honda', 'supra', 'x', 'dealer', 'surya', 'agung', 'motor', 'bangkalan', 'diperoleh', 'sampel', 'responden', 'diambil', 'metode', 'purposive', 'sampling', 'menyebarkan', 'kuesioner', 'hipotesis', 'penelitian', 'atribut', 'produk', 'mempengaruhi', 'keputusan', 'pembelian', 'kualitas', 'produk', 'fitur', 'produk', 'gaya', 'desain', 'produk', 'berpengaruh', 'signifikan', 'keputusan', 'pembelian', 'sepeda', 'motor', 'honda', 'supra', 'x', 'simultan', 'parsial', 'hasil', 'penelitian', 'uji', 'f', 'variabel', 'bebas', 'atribut', 'produk', 'kualitas', 'produk', 'fitur', 'produk', 'gaya', 'desain', 'produk', 'berpengaruh', 'simultan', 'keputusan', 'pembelian', 'sepeda', 'motor', 'honda', 'supra', 'x', 'studi', 'dealer', 'surya', 'agung', 'motor', 'bangkalan', 'uji', 't', 'parsial', 'variabel', 'kualitas', 'produk', 'fitur', 'produk', 'gaya', 'desain', 'produk', 'keputusan', 'pembelian', 'sepeda', 'motor', 'honda', 'supra', 'x', 'studi', 'dealer', 'surya', 'agung', 'motor', 'bangkalan', 'parsial', 'variabel', 'kualitas', 'produk', 'mempunyah', 'pengaruh', 'dominan', 'keputusan', 'pembelian', 'sepeda', 'motor', 'honda', 'supra', 'x', 'studi', 'dealer', 'surya', 'agung', 'motor', 'bangkalan', 'kunci', 'atribut', 'produk', 'keputusan', 'pembelian'], ['tujuan', 'penelitian', 'pengaruh', 'variabel', 'persepsi', 'nilai', 'kualitas', 'produk', 'kualitas', 'pelayanan', 'harga', 'faktor', 'emosional', 'kemudahan', 'kepuasan', 'pelanggan', 'simultan', 'parsial', 'variebel', 'manakah', 'memilik', 'pengaruh', 'terbesar', 'kepuasan', 'pelanggan', 'produk', 'sepeda', 'motor', 'merek', 'yamaha', 'new', 'jupiter', 'z', 'kota', 'bangkalan', 'penelitian', 'pendekatan', 'kuantitatif', 'metode', 'analisis', 'data', 'regresi', 'liniear', 'berganda', 'populasi', 'penelitian', 'pelanggan', 'sepeda', 'motor', 'merek', 'yamaha', 'new', 'jupiter', 'z', 'kota', 'bangkalan', 'teknik', 'pengambilan', 'sampel', 'penelitian', 'metode', 'purposive', 'sampling', 'responden', 'responden', 'metode', 'pengumpulan', 'data', 'menyebarkan', 'kuesioner', 'hasilnya', 'diolah', 'bantuan', 'aplikasi', 'komputer', 'spss', 'for', 'windows', 'hasil', 'penelitian', 'membuktikan', 'uji', 'f', 'simultan', 'variabel', 'persepsi', 'nilai', 'kualitas', 'produk', 'kualitas', 'pelayanan', 'harga', 'faktor', 'emosional', 'kemudahan', 'berpengaruh', 'kepuasan', 'pelanggan', 'sepeda', 'motor', 'merek', 'yamaha', 'new', 'jupiter', 'z', 'kota', 'bangkalan', 'hasil', 'penelitian', 'membuktikan', 'uji', 't', 'parsial', 'variabel', 'persepsi', 'nilai', 'kualitas', 'produk', 'kualitas', 'pelayanan', 'harga', 'faktor', 'emosional', 'kemudahan', 'berpengaruh', 'kepuasan', 'pelanggan', 'sepeda', 'motor', 'merek', 'yamaha', 'new', 'jupiter', 'z', 'kota', 'bangkalan', 'variabel', 'harga', 'memiliki', 'pengaruh', 'terbesar'], ['kusniyah', 'analisis', 'volume', 'perdagangan', 'saham', 'return', 'saham', 'stock', 'split', 'perusahaan', 'go', 'public', 'bursa', 'efek', 'indonesia', 'dibawah', 'bimbingan', 'hj', 'evaliati', 'amaniyah', 'msm', 'prasetyo', 'nugroho', 'mm', 'kenaikan', 'harga', 'saham', 'menyebabkan', 'permintaan', 'pembelian', 'saham', 'mengalami', 'penurunan', 'menyebabkan', 'harga', 'saham', 'perusahaan', 'statis', 'fluktuatif', 'menghindari', 'munculnya', 'kondisi', 'salah', 'langkah', 'diambil', 'perusahaan', 'stock', 'split', 'diharapkan', 'meningkatkan', 'likuiditas', 'saham', 'tujuan', 'penelitian', 'bertujuan', 'memperoleh', 'bukti', 'empiris', 'aktifitas', 'stock', 'split', 'perbedaan', 'volume', 'perdagangan', 'saham', 'memperoleh', 'bukti', 'empiris', 'aktifitas', 'stock', 'split', 'perbedaan', 'return', 'saham', 'pendekatan', 'penelitian', 'penelitian', 'pendekatan', 'kuantitatif', 'populasi', 'penelitian', 'perusahaan', 'go', 'public', 'bursa', 'efek', 'indonesia', 'aktifitas', 'stock', 'split', 'teknik', 'pengambilan', 'sampel', 'metode', 'purposive', 'sampling', 'sampel', 'perusahaan', 'dianalisis', 'uji', 't', 'paired', 'sample', 'kesimpulan', 'penelitian', 'perbedaan', 'volume', 'perdagangan', 'saham', 'stock', 'split', 'perusahaan', 'sampel', 'perbedaan', 'volume', 'perdagangan', 'saham', 'stock', 'split', 'perusahaan', 'sampel', 'perbedaan', 'return', 'saham', 'stock', 'split', 'perusahaan', 'sampel', 'perbedaan', 'return', 'saham', 'stock', 'split', 'perusahaan', 'sampel', 'kunci', 'stock', 'split', 'volume', 'perdagangan', 'saham', 'return', 'saham'], ['muzanni', 'peranan', 'manajemen', 'piutang', 'tertahadap', 'rentabilitas', 'koperasi', 'berbasis', 'syariah', 'koperasi', 'berbasis', 'konvensional', 'studi', 'koperasi', 'bmt', 'ugt', 'sidogiri', 'cabang', 'pembantu', 'bangkalan', 'kpri', 'kopergu', 'bangkalan', 'bimbingan', 'hj', 'evaliati', 'amaniyah', 'msm', 'purnamawati', 'lembaga', 'keuangan', 'memperoleh', 'pendapatan', 'pinjaman', 'pendanaan', 'nasabah', 'anggota', 'otomatis', 'piutang', 'modal', 'tertanam', 'piutang', 'potensi', 'keuntungan', 'diperoleh', 'modal', 'tertanam', 'piutang', 'potensi', 'keuntungan', 'didapatkan', 'besarnya', 'piutang', 'penerapan', 'manajemen', 'piutang', 'berpengaruh', 'rentabilitas', 'lembaga', 'tujuan', 'penelitian', 'peranan', 'pengelolaan', 'piutang', 'rentabilitas', 'diterapkan', 'koperasi', 'bmt', 'ugt', 'sidogiri', 'cabang', 'pembantu', 'bangkalan', 'kpri', 'kopergu', 'bangkalan', 'penelitian', 'pendekatan', 'deskriptif', 'alat', 'analisis', 'rasio', 'aktivitas', 'rasio', 'rentabilitas', 'kesimpulan', 'penelitian', 'studi', 'manajemen', 'piutang', 'koperasi', 'bmt', 'ugt', 'sidogiri', 'cabang', 'pembantu', 'bangkalan', 'memiliki', 'kriterian', 'efisien', 'kpri', 'kopergu', 'bangkalan', 'efisien', 'koperasi', 'memiliki', 'tingkat', 'pertumbuhan', 'signifikan', 'koperasi', 'bmt', 'ugt', 'sidogiri', 'cabang', 'pembantu', 'bangkalan', 'memiliki', 'tingkat', 'perputaran', 'piutang', 'periode', 'pengumpulan', 'cepat', 'kpri', 'kopergu', 'bangkalan', 'global', 'rasio', 'rentabilitas', 'ekonomi', 'koperasi', 'bmt', 'ugt', 'sidogiri', 'cabang', 'pembantu', 'bangkalan', 'kategori', 'efisien', 'kpri', 'kopergu', 'bangkalan', 'kategori', 'efisien', 'perkembangan', 'rentabilitas', 'lembaga', 'kategori', 'efisien', 'perkembangan', 'rasio', 'rentabilitas', 'modal', 'dimiliki', 'koperasi', 'bmt', 'ugt', 'sidogiri', 'cabang', 'pembantu', 'bangkalan', 'mengalami', 'perkembangan', 'meningkat', 'kpri', 'kopergu', 'bangkalan', 'mengalami', 'penurunan', 'kunci', 'manajemen', 'piutang', 'rentabilitas'], ['abstrak', 'ike', 'miranti', 'pengaruh', 'strategi', 'promosi', 'keputusan', 'pembelian', 'studi', 'pt', 'maan', 'ghodaqo', 'siddiq', 'lestari', 'jombang', 'dibimbing', 'bambang', 'setiyo', 'pambudi', 'mm', 'nirma', 'kurriwati', 'sp', 'msi', 'tujuan', 'penelitian', 'pengaruh', 'strategi', 'promosi', 'periklanan', 'promosi', 'penjualan', 'publisitas', 'penjualan', 'personal', 'berpengaruh', 'keputusan', 'pembelian', 'y', 'pt', 'maan', 'ghodaqo', 'siddiq', 'lestari', 'variabel', 'strategi', 'promosi', 'berpengaruh', 'keputusan', 'pembelian', 'studi', 'pt', 'maan', 'ghodaqo', 'siddiq', 'lestari', 'pendekatan', 'penelitian', 'penelitian', 'kuantitatif', 'penelitian', 'menitikberatkan', 'pengujian', 'hipotesis', 'populasi', 'penelitian', 'konsumen', 'membeli', 'air', 'mineral', 'kemasan', 'metode', 'pengambilan', 'sampel', 'purprosive', 'sampling', 'responden', 'penelitian', 'maret', 'metode', 'pengumpulan', 'data', 'menyebarkan', 'kuesioner', 'menguji', 'instrument', 'uji', 'validitas', 'uji', 'reabilitas', 'uji', 'asumsi', 'klasik', 'teknis', 'analisis', 'data', 'analisis', 'regresi', 'linier', 'berganda', 'memakaiuji', 'f', 'uji', 'teknik', 'pengolahan', 'data', 'penelitian', 'software', 'spss', 'versi', 'skala', 'likert', 'berdasarkan', 'hasil', 'penelitian', 'nilai', 'r', 'square', 'besarnya', 'pengaruh', 'variabel', 'bebas', 'variabel', 'terikat', 'sisanya', 'dipengaruhi', 'variabel', 'diteliti', 'penelitian', 'berdasarkan', 'uji', 'f', 'variabel', 'strategi', 'promosi', 'periklanan', 'promosi', 'penjualan', 'publisitas', 'penjualan', 'personal', 'simultan', 'berpengaruh', 'signifikan', 'keputusan', 'pembelian', 'y', 'air', 'mineral', 'kemasan', 'pt', 'maan', 'ghodaqo', 'siddiq', 'lestari', 'berdasarkan', 'uji', 't', 'parsial', 'variabel', 'periklanan', 'berpengaruh', 'signifikan', 'variabel', 'terikat', 'variabel', 'promosi', 'penjualan', 'publisitas', 'penjualan', 'personal', 'berpengaruh', 'signifikan', 'keputusan', 'pembelian', 'y', 'variabel', 'berpengaruh', 'variabel', 'penjualan', 'personal', 'kunci', 'strategi', 'promosi', 'keputusan', 'pembelian'], ['anissa', 'novianti', 'pengaruh', 'atribut', 'produk', 'keputusan', 'pembelian', 'minyak', 'goreng', 'sania', 'studi', 'perumahan', 'graha', 'kamal', 'permai', 'kecamatan', 'kamal', 'dibawah', 'bimbingan', 'nurita', 'andriani', 'ir', 'hadi', 'purnomo', 'mm', 'tujuan', 'penelitian', 'pengaruh', 'atribut', 'produk', 'merek', 'kemasan', 'label', 'simultan', 'keputusan', 'pembelian', 'minyak', 'goreng', 'sania', 'studi', 'perumahan', 'graha', 'kamal', 'permai', 'kecamatan', 'kamal', 'pengaruh', 'atribut', 'produk', 'merek', 'kemasan', 'label', 'parsial', 'keputusan', 'pembelian', 'minyak', 'goreng', 'sania', 'studi', 'perumahan', 'graha', 'kamal', 'permai', 'kecamatan', 'kamal', 'variabel', 'atribut', 'produk', 'berpengaruh', 'dominan', 'keputusan', 'pembelian', 'studi', 'perumahan', 'graha', 'kamal', 'permai', 'kecamatan', 'kamal', 'penelitian', 'pendekatan', 'kuantitatif', 'berusaha', 'pengaruh', 'atribut', 'produk', 'keputusan', 'pembelian', 'minyak', 'goreng', 'sania', 'studi', 'perumahan', 'graha', 'kamal', 'permai', 'kecamatan', 'kamal', 'teknik', 'pengambilan', 'sampel', 'simple', 'random', 'sampling', 'responden', 'teknik', 'pengumpulan', 'data', 'wawancara', 'kepustakaan', 'kuesioner', 'skala', 'likert', 'mengukur', 'responden', 'menguji', 'instrumen', 'uji', 'validitas', 'uji', 'reliabilitas', 'uji', 'asumsi', 'klasik', 'teknik', 'analisis', 'data', 'analisis', 'regresi', 'linier', 'berganda', 'variabel', 'variabel', 'uji', 'f', 'uji', 'hasil', 'penelitian', 'variabel', 'atribut', 'produk', 'merek', 'kemasan', 'label', 'berpengaruh', 'simultan', 'parsial', 'keputusan', 'pembelian', 'studi', 'perumahan', 'graha', 'kamal', 'permai', 'kecamatan', 'kamal', 'variabel', 'atribut', 'produk', 'berpengaruh', 'parsial', 'keputusan', 'pembelian', 'minyak', 'goreng', 'sania', 'studi', 'perumahan', 'graha', 'kamal', 'permai', 'kecamatan', 'kamal', 'variabel', 'berpengaruh', 'dominan', 'variabel', 'merek', 'kunci', 'atribut', 'produk', 'keputusan', 'pembelian'], ['abstrak', 'tujuan', 'penelitian', 'variabel', 'harga', 'kualitas', 'produk', 'berpengaruh', 'simultan', 'keputusan', 'pembelian', 'martabak', 'hawaii', 'bangkalan', 'harga', 'kualitas', 'produk', 'berpengaruh', 'parsial', 'keputusan', 'pembelian', 'martabak', 'hawaii', 'bangkalan', 'variabel', 'harga', 'kualitas', 'produk', 'pengaruh', 'dominan', 'keputusan', 'pembelian', 'martabak', 'hawaii', 'bangkalan', 'pendekatan', 'penelitian', 'penelitian', 'kuantitatif', 'penelitian', 'berlandaskan', 'filsafat', 'positivisme', 'bertujuan', 'menguji', 'hipotesis', 'ditetapkan', 'sampel', 'penelitian', 'konsumen', 'pembelian', 'martabak', 'hawaii', 'bangkalan', 'konsumen', 'metode', 'pengambilan', 'sampel', 'accidental', 'sampling', 'pengujian', 'instrumen', 'uji', 'validitas', 'reliabilitas', 'uji', 'asumsi', 'klasik', 'teknik', 'analisis', 'data', 'menguji', 'hipotesis', 'regresi', 'linier', 'berganda', 'memakai', 'uji', 'f', 'uji', 'berdasarkan', 'hasil', 'penelitian', 'nilai', 'adjusted', 'r', 'square', 'besarnya', 'pengaruh', 'variabel', 'bebas', 'variabel', 'terikat', 'sisanya', 'dipengaruhi', 'variabel', 'diteliti', 'penelitian', 'berdasarkan', 'uji', 'f', 'variabel', 'harga', 'kualitas', 'produk', 'simultan', 'berpengaruh', 'signifikan', 'keputusan', 'pembelian', 'martabak', 'hawaii', 'bangkalan', 'berdasarkan', 'uji', 't', 'parsial', 'variabel', 'harga', 'kualitas', 'produk', 'berpengaruh', 'signifikan', 'variabel', 'terikat', 'variabel', 'berpengaruh', 'variabel', 'kualitas', 'produk', 'kunci', 'harga', 'kualitas', 'produk', 'keputusan', 'pembelian'], ['abstrak', 'tujuan', 'penelitian', 'pengaruh', 'ekuitas', 'merek', 'kesadaran', 'merek', 'brand', 'awareness', 'asosiasi', 'merek', 'brand', 'assocations', 'kesan', 'kualitas', 'perceived', 'quality', 'loyalitas', 'merek', 'brand', 'loyalty', 'simultan', 'keputusan', 'pembelian', 'variabel', 'ekuitas', 'merek', 'variabel', 'manakah', 'dominan', 'pengaruh', 'keputusan', 'pembelian', 'handphone', 'blackberry', 'penelitian', 'pendekatan', 'kuantitatif', 'berusaha', 'pengaruh', 'ekuitas', 'merek', 'keputusan', 'pembelian', 'handphone', 'blackberry', 'studi', 'mahasiswa', 'universitas', 'trunojoyo', 'madura', 'pengambilan', 'sampel', 'purposive', 'sampling', 'pengumpulan', 'data', 'wawancara', 'kepustakaan', 'kuesioner', 'skala', 'likert', 'mengukur', 'menguji', 'instrumen', 'uji', 'validitas', 'uji', 'reliabilitas', 'uji', 'asumsi', 'teknik', 'analisis', 'data', 'analisis', 'regresi', 'linier', 'berganda', 'variabel', 'variabel', 'uji', 'f', 'uji', 'hasil', 'penelitian', 'variabel', 'ekuitas', 'merek', 'kesadaran', 'merek', 'kesan', 'kualitas', 'asosiasi', 'merek', 'loyalitas', 'merek', 'berpengaruh', 'simultan', 'keputusan', 'pembelian', 'handphone', 'blackberry', 'studi', 'mahasiswa', 'universitas', 'trunojoyo', 'madura', 'loyalitas', 'merek', 'berpengaruh', 'dominan', 'keputusan', 'pembelian'], ['abstrak', 'harga', 'merek', 'salah', 'langkah', 'diperhatikan', 'perusahaan', 'menghasilkan', 'produk', 'merek', 'pemasaran', 'diharapkan', 'perusahaan', 'diterima', 'konsumen', 'bergerak', 'bidang', 'produksi', 'barang', 'jasa', 'swalayan', 'kopontren', 'sidogiri', 'cabang', 'tanah', 'merah', 'salah', 'bisnis', 'eceran', 'bergerak', 'jual', 'beli', 'barang', 'memperhatikan', 'perilaku', 'konsumen', 'mengambil', 'keputusan', 'tujuan', 'penelitian', 'pengaruh', 'harga', 'merek', 'simultan', 'keputusan', 'pembelian', 'konsumen', 'studi', 'swalayan', 'kopontren', 'sidogiri', 'cabang', 'tanah', 'merah', 'variabel', 'berpengaruh', 'keputusan', 'pembelian', 'studi', 'swalayan', 'kopontren', 'sidogiri', 'cabang', 'tanah', 'merah', 'penelitian', 'pendekatan', 'pendekatan', 'kuantitatif', 'berusaha', 'pengaruh', 'harga', 'merek', 'keputusan', 'pembelian', 'studi', 'swalayan', 'kopontren', 'sidogiri', 'cabang', 'tanah', 'merah', 'teknik', 'pengambilan', 'sampel', 'purposive', 'sampling', 'responden', 'teknik', 'pengumpulan', 'data', 'wawancara', 'kepustakaan', 'kuesioner', 'skala', 'likert', 'mengukur', 'responden', 'menguji', 'instrumen', 'uji', 'validitas', 'uji', 'reliabilitas', 'uji', 'asumsi', 'klasik', 'teknik', 'analisis', 'data', 'analisis', 'regresi', 'linier', 'berganda', 'variabel', 'variabel', 'uji', 'f', 'uji', 'hasil', 'penelitian', 'variabel', 'harga', 'merek', 'berpengaruh', 'parsial', 'simultan', 'keputusan', 'pembelian', 'studi', 'swalayan', 'kopontren', 'sidogiri', 'cabang', 'tanah', 'merah', 'variabel', 'merek', 'berpengaruh', 'keputusan', 'pemebelian', 'studi', 'swalayan', 'kopontren', 'sidogiri', 'cabang', 'tanah', 'merah', 'kuci', 'harga', 'merek', 'keputusan', 'pembelian'], ['menjalani', 'pekerjaan', 'mencampur', 'adukkan', 'permasalahan', 'dirumah', 'rumah', 'tangga', 'membawa', 'permasalahan', 'pekerjaan', 'kedalam', 'keluarga', 'sulit', 'penuh', 'beban', 'berat', 'rumah', 'tangga', 'berdampak', 'pekerjaannya', 'jenis', 'tugas', 'maksimal', 'dilakukannya', 'tugas', 'kota', 'tugas', 'mengikuti', 'pendidikan', 'pelatihan', 'jangka', 'kerja', 'lembur', 'tujuan', 'penelitian', 'pengaruh', 'konflik', 'peran', 'ganda', 'variabel', 'konflik', 'konflik', 'berpengaruh', 'simultan', 'kinerja', 'perawat', 'wanita', 'rs', 'syamrabu', 'bangkalan', 'pengaruh', 'konflik', 'peran', 'ganda', 'konflik', 'konflik', 'berpengaruh', 'parsial', 'kinerja', 'perawat', 'wanita', 'rs', 'syamrabu', 'bangkalan', 'sampel', 'penelitian', 'perawat', 'wanita', 'rs', 'syamrabu', 'bangkalan', 'orang', 'metode', 'pengambilan', 'sampel', 'purpossive', 'sampling', 'pengujian', 'instrumen', 'uji', 'validitas', 'reliabilitas', 'uji', 'asumsi', 'klasik', 'teknik', 'analisis', 'data', 'menguji', 'hipotesis', 'regresi', 'linier', 'berganda', 'memakai', 'uji', 'f', 'uji', 'berdasarkan', 'hasil', 'penelitian', 'nilai', 'adjusted', 'r', 'square', 'besarnya', 'pengaruh', 'variabel', 'bebas', 'variabel', 'terikat', 'sisanya', 'dipengaruhi', 'variabel', 'diteliti', 'penelitian', 'berdasarkan', 'uji', 'f', 'variabel', 'konflik', 'konflik', 'simultan', 'berpengaruh', 'signifikan', 'kinerjanya', 'rs', 'syamrabu', 'bangkalan', 'berdasarkan', 'uji', 't', 'parsial', 'variabel', 'konflik', 'berpengaruh', 'signifikan', 'positif', 'variabel', 'konflik', 'berpengaruh', 'signifikan', 'negatif', 'variabel', 'terikat', 'kunci', 'konflik', 'peran', 'ganda', 'konflik', 'konflik', 'kinerja'], ['abstrak', 'penelitian', 'bertujuan', 'pengaruh', 'unsur', 'unsur', 'komunikasi', 'pengirim', 'pesan', 'komunikator', 'pesan', 'media', 'komunikasi', 'penerima', 'pesan', 'komunikan', 'umpan', 'produktifitas', 'kerja', 'pegawai', 'negeri', 'sipil', 'dinas', 'pendidikian', 'kabupaten', 'bangkalan', 'simultan', 'parsial', 'populasi', 'penelitian', 'pegawai', 'negeri', 'sipil', 'dinas', 'pendidikan', 'kabupaten', 'bangkalan', 'pegawai', 'sampel', 'pegawai', 'diambil', 'proporsional', 'random', 'sampling', 'metode', 'pengumpulan', 'data', 'membagikan', 'kuesioner', 'riset', 'perpustakaan', 'data', 'teknik', 'pengolahan', 'data', 'pengolahan', 'data', 'bantuan', 'perangkat', 'lunak', 'spss', 'versi', 'uji', 'validitas', 'uji', 'reabilitas', 'skala', 'likert', 'hasil', 'penelitian', 'faktor', 'faktor', 'komunikasi', 'simultan', 'pengaruh', 'signifikan', 'produktifitas', 'kerja', 'nilai', 'fhitung', 'ftabel', 'tingkat', 'signifikansi', 'koefisien', 'determinasi', 'berganda', 'variabel', 'komunikator', 'pesan', 'media', 'komunikasi', 'komunikan', 'umpan', 'menerangkan', 'variabel', 'produktifitas', 'kerja', 'y', 'sisanya', 'dipengaruhi', 'variabel', 'dimasukkan', 'model', 'penelitian', 'parsial', 'varibel', 'pengaruh', 'langsung', 'positif', 'signifikan', 'variabel', 'kominkator', 'komunikan', 'pesan', 'media', 'komunikasi', 'umpan', 'berpengaruh', 'positif', 'sigifikan', 'hasil', 'analisis', 'variabel', 'komunikator', 'peranan', 'dominan', 'upaya', 'meningkatkan', 'produktifitas', 'kerja', 'kunci', 'pengirim', 'pesan', 'komunikator', 'pesan', 'media', 'komunikasi', 'penerima', 'pesan', 'komunikan', 'umpan', 'produktivitas', 'kerja'], ['tujuan', 'penelitian', 'marketing', 'mix', 'produk', 'harga', 'promosi', 'distribusi', 'berpengaruh', 'simultan', 'parsial', 'keputusan', 'pembelian', 'konsumen', 'variabel', 'manakah', 'berpengaruh', 'dominan', 'keputusan', 'konsumen', 'pembelian', 'rokok', 'u', 'mild', 'objek', 'penelitian', 'konsumen', 'rokok', 'u', 'mild', 'socah', 'sampel', 'konsumen', 'teknik', 'analisis', 'data', 'meguji', 'hipotesis', 'regresi', 'linier', 'berganda', 'hasil', 'analisis', 'penelitian', 'simultan', 'uji', 'f', 'marketing', 'mix', 'produk', 'harga', 'promosi', 'distribusi', 'pengaruh', 'signifikan', 'keputusan', 'pembelian', 'rokok', 'u', 'mild', 'socah', 'parsial', 'uji', 't', 'variabel', 'promosi', 'harga', 'promosi', 'distribusi', 'berpengaruh', 'signifikan', 'variabel', 'harga', 'berpengaruh', 'keputusan', 'pembelian', 'disimpulkan', 'meningkatkan', 'keputusan', 'pembelian', 'rokok', 'u', 'mild', 'socah', 'meningkatkan', 'marketing', 'mix', 'segi', 'produk', 'harga', 'promosi', 'distribusi', 'kunci', 'produk', 'harga', 'promosi', 'distribusi', 'keputusan', 'pembelian'], ['abstrak', 'tujuan', 'penelitian', 'mengidentifikasi', 'atribut', 'produk', 'mempengaruhi', 'keputusan', 'pembelian', 'produk', 'penyedap', 'masako', 'simultan', 'parsial', 'variabel', 'manakah', 'berpengaruh', 'penelitian', 'metode', 'kuantitatif', 'dimana', 'populasinya', 'kecamatan', 'robatal', 'sampang', 'membeli', 'mengkonsumsi', 'produk', 'penyedap', 'masako', 'teknik', 'pengambilan', 'sampel', 'accidental', 'sampling', 'diperoleh', 'sampel', 'responden', 'hipotesis', 'penelitian', 'variabel', 'atribut', 'produk', 'merek', 'kemasan', 'pelabelan', 'layanan', 'pelengkap', 'berpengaruh', 'simultan', 'keputusan', 'pembelian', 'produk', 'penyedap', 'masako', 'variabel', 'merek', 'berpengaruh', 'keputusan', 'pembelian', 'produk', 'penyedap', 'masako', 'hasil', 'penelitian', 'uji', 'f', 'simultan', 'simultan', 'variabel', 'independen', 'merek', 'kemasan', 'pelabelan', 'layanan', 'pelengkap', 'mempengaruhi', 'variabel', 'dependen', 'keputusan', 'pembelian', 'hipotesis', 'diterima', 'hasil', 'uji', 't', 'parsial', 'membuktikan', 'individu', 'variabel', 'bebas', 'berpengaruh', 'positif', 'signifikan', 'keputusan', 'pembelian', 'hasil', 'variabel', 'merek', 'pengaruh', 'hipotesis', 'diterima', 'simpulan', 'penelitian', 'simultan', 'pengaruh', 'signifikan', 'variabel', 'bebas', 'variabel', 'terikatnya', 'keputusan', 'pembelian', 'parsial', 'variabel', 'bebas', 'berpengaruh', 'positif', 'signifikan', 'keputusan', 'pembelian', 'variabel', 'bebas', 'parsial', 'individu', 'pengaruh', 'variabel', 'keputusan', 'pembelian', 'kunci', 'atribut', 'produk', 'keputusan', 'pembelian'], ['abstrak', 'tujuan', 'penelitian', 'pengaruh', 'perilaku', 'konsumen', 'kebudayaan', 'sosial', 'pribadi', 'psikologis', 'keputusan', 'pembelian', 'produk', 'susu', 'cair', 'merek', 'indomilk', 'swalayan', 'tom', 'jerry', 'bangkalan', 'variabel', 'manakah', 'perilaku', 'konsumen', 'berpengaruh', 'dominan', 'keputusan', 'pembelian', 'konsumen', 'produk', 'susu', 'cair', 'merek', 'indomilk', 'penelitian', 'pendekatan', 'pendekatan', 'kuantitatif', 'berusaha', 'pengaruh', 'perilaku', 'konsumen', 'keputusan', 'pembelian', 'produk', 'susu', 'cair', 'merek', 'indomilk', 'studi', 'konsumen', 'swalayan', 'tom', 'jerry', 'bangkalan', 'teknik', 'pengambilan', 'sampel', 'purposive', 'sampling', 'pengumpulan', 'data', 'wawancara', 'kepustakaan', 'kuesioner', 'skala', 'likert', 'mengukur', 'menguji', 'instrumen', 'uji', 'validitas', 'uji', 'reliabilitas', 'uji', 'asumsi', 'teknik', 'analisis', 'data', 'analisis', 'regresi', 'linier', 'berganda', 'variabel', 'variabel', 'uji', 'f', 'uji', 'hasil', 'penelitian', 'variabel', 'perilaku', 'konsumen', 'kebudayaan', 'sosial', 'pribadi', 'psikologis', 'berpengaruh', 'simultan', 'keputusan', 'pembelian', 'produk', 'susu', 'cair', 'merek', 'indomilk', 'variabel', 'psikologis', 'berpengaruh', 'dominan', 'keputusan', 'pembelian', 'produk', 'susu', 'cair', 'merek', 'indomilk', 'kunci', 'perilaku', 'konsumen', 'kebudayaan', 'sosial', 'pribadi', 'psikologis', 'keputusan', 'pembelian'], ['abstrak', 'tujuan', 'penelitian', 'pengaruh', 'bauran', 'pemasaran', 'produk', 'harga', 'distribusi', 'promosi', 'signifikan', 'simultan', 'parsial', 'keputusan', 'pembelian', 'konsumen', 'variabel', 'manakah', 'berpengaruh', 'dominan', 'keputusan', 'konsumen', 'pembelian', 'produk', 'petis', 'ikan', 'tuna', 'kelurahan', 'banyuanyar', 'kabupaten', 'sampang', 'objek', 'penelitian', 'kosumen', 'produk', 'petis', 'ikan', 'tuna', 'kelurahan', 'banyuanyar', 'kabupaten', 'sampang', 'sampel', 'konsumen', 'teknik', 'analisis', 'data', 'meguji', 'hipotesis', 'regresi', 'linier', 'berganda', 'memakai', 'uji', 'f', 'uji', 'berdasar', 'hasil', 'penelitian', 'model', 'regresi', 'linier', 'berganda', 'sistematis', 'hasil', 'analisis', 'penelitian', 'simultan', 'uji', 'bauran', 'pemasaran', 'produk', 'harga', 'distribusi', 'promosi', 'pengaruh', 'signifikan', 'keputusan', 'pembelian', 'produk', 'petis', 'ikan', 'tuna', 'kelurahan', 'banyuanyar', 'kabupaten', 'sampang', 'parsial', 'uji', 't', 'variabel', 'produk', 'harga', 'promosi', 'berpengaruh', 'signifikan', 'variabel', 'ditribusi', 'berpengaruh', 'signifikan', 'keputusan', 'pembelian', 'produk', 'petis', 'ikan', 'tuna', 'kelurahan', 'banyuanyar', 'kabupaten', 'sampang', 'variabel', 'produk', 'berpengaruh', 'keputusan', 'pembelian', 'kunci', 'produk', 'harga', 'promosi', 'distribusi', 'keputusan', 'pembelian'], ['abstrak', 'tujuan', 'penelitian', 'pengaruh', 'pesan', 'iklan', 'televisi', 'isi', 'pesan', 'struktur', 'pesan', 'format', 'pesan', 'sumber', 'pesan', 'simultan', 'minat', 'beli', 'jamu', 'tolak', 'angin', 'sido', 'muncul', 'konsumen', 'pasar', 'manyar', 'surabaya', 'variabel', 'pesan', 'iklan', 'televisi', 'berpengaruh', 'dominan', 'minat', 'beli', 'jamu', 'tolak', 'angin', 'sido', 'muncul', 'konsumen', 'pasar', 'manyar', 'surabaya', 'penelitian', 'pendekatan', 'pendekatan', 'kuantitatif', 'berusaha', 'pengaruh', 'pesan', 'iklan', 'televisi', 'minat', 'beli', 'jamu', 'tolak', 'angin', 'sido', 'muncul', 'konsumen', 'pasar', 'manyar', 'surabaya', 'teknik', 'pengambilan', 'sampel', 'purposive', 'sampling', 'pengumpulan', 'data', 'wawancara', 'kepustakaan', 'kuesioner', 'skala', 'likert', 'mengukur', 'menguji', 'instrumen', 'uji', 'validitas', 'uji', 'reliabilitas', 'uji', 'asumsi', 'teknik', 'analisis', 'data', 'analisis', 'regresi', 'linier', 'berganda', 'variabel', 'variabel', 'uji', 'f', 'uji', 'hasil', 'penelitian', 'variabel', 'pesan', 'iklan', 'televisi', 'isi', 'pesan', 'struktur', 'pesan', 'format', 'pesan', 'sumber', 'pesan', 'simultan', 'minat', 'beli', 'jamu', 'tolak', 'angin', 'sido', 'muncul', 'konsumen', 'pasar', 'manyar', 'surabaya', 'variabel', 'isi', 'pesan', 'berpengaruh', 'dominan', 'minat', 'beli', 'jamu', 'tolak', 'angin', 'sido', 'muncul', 'konsumen', 'pasar', 'manyar', 'surabaya', 'kuci', 'pesan', 'iklan', 'televisi', 'isi', 'pesan', 'struktur', 'pesan', 'format', 'pesan', 'sumber', 'pesan', 'minat', 'beli']]\n"
     ]
    }
   ],
   "source": [
    "index_iloc = 0\n",
    "len_df = len(df.index)\n",
    "array_stopwords = []\n",
    "for kata in range(len_df):\n",
    "    # indexData itu ambil tiap bagian dari data frame dengan nama dataCSV\n",
    "    indexData = df.iloc[index_iloc, [1]].values\n",
    "    clean_words = [w for w in word_tokenize(indexData[0].lower())\n",
    "                                    if w.isalpha()\n",
    "                                    and w not in stopwords.words('indonesian')]\n",
    "    \n",
    "    array_stopwords.append(clean_words)\n",
    "    index_iloc += 1\n",
    "\n",
    "    # FreqDist(clean_words).most_common(20)\n",
    "print(array_stopwords)"
   ]
  },
  {
   "cell_type": "markdown",
   "metadata": {},
   "source": [
    "> diatas ini merupakan pemrosesan stopword (kotor) dari dataset"
   ]
  },
  {
   "cell_type": "markdown",
   "metadata": {},
   "source": [
    "## Proses Stemming Data"
   ]
  },
  {
   "cell_type": "code",
   "execution_count": 32,
   "metadata": {},
   "outputs": [],
   "source": [
    "factory = StemmerFactory()\n",
    "stemmer = factory.create_stemmer()\n",
    "\n",
    "array_stemming = [] \n",
    "for j in array_stopwords:\n",
    "    # proses stem per kalimat\n",
    "    temp = \"\"\n",
    "    for i in j:\n",
    "        # print(i)\n",
    "        temp = temp +\" \"+ i\n",
    "\n",
    "    hasil = stemmer.stem(temp)\n",
    "    array_stemming.append(hasil)"
   ]
  },
  {
   "cell_type": "code",
   "execution_count": 33,
   "metadata": {},
   "outputs": [
    {
     "data": {
      "text/html": [
       "<div>\n",
       "<style scoped>\n",
       "    .dataframe tbody tr th:only-of-type {\n",
       "        vertical-align: middle;\n",
       "    }\n",
       "\n",
       "    .dataframe tbody tr th {\n",
       "        vertical-align: top;\n",
       "    }\n",
       "\n",
       "    .dataframe thead th {\n",
       "        text-align: right;\n",
       "    }\n",
       "</style>\n",
       "<table border=\"1\" class=\"dataframe\">\n",
       "  <thead>\n",
       "    <tr style=\"text-align: right;\">\n",
       "      <th></th>\n",
       "      <th>Judul</th>\n",
       "      <th>Abstrak_indo</th>\n",
       "      <th>stem_kata</th>\n",
       "    </tr>\n",
       "  </thead>\n",
       "  <tbody>\n",
       "    <tr>\n",
       "      <th>0</th>\n",
       "      <td>PELAPORAN BIAYA KUALITAS UNTUK MEMINIMALKAN TE...</td>\n",
       "      <td>ABSTRAK\\r\\n\\r\\nPenelitian ini mengungkapkan be...</td>\n",
       "      <td>abstrak teliti rumus lapor biaya kualitas mini...</td>\n",
       "    </tr>\n",
       "    <tr>\n",
       "      <th>1</th>\n",
       "      <td>PENGARUH RETAILING MIX (BAURAN ECERAN) TERHADA...</td>\n",
       "      <td>Bauran eceran merupakan salah satu langkah pem...</td>\n",
       "      <td>baur ecer salah langkah pasar hasil usaha gera...</td>\n",
       "    </tr>\n",
       "    <tr>\n",
       "      <th>2</th>\n",
       "      <td>PENGARUH CELEBRITY ENDORSER IWAN FALS TERHADAP...</td>\n",
       "      <td>Tujuan penelitian ini adalah mengetahui pengar...</td>\n",
       "      <td>tuju teliti pengaruh celebrity endorser iwan f...</td>\n",
       "    </tr>\n",
       "    <tr>\n",
       "      <th>3</th>\n",
       "      <td>Pengaruh Harga dan Kualitas Pelayanan terhadap...</td>\n",
       "      <td>Ali Rahbini, Pengaruh Harga dan Kualitas Pelay...</td>\n",
       "      <td>ali rahbini pengaruh harga kualitas layan puas...</td>\n",
       "    </tr>\n",
       "    <tr>\n",
       "      <th>4</th>\n",
       "      <td>Pengaruh Retailing Mix terhadap Keputusan Pemb...</td>\n",
       "      <td>Tujuan penelitian ini adalah untuk mengetahui ...</td>\n",
       "      <td>tuju teliti pengaruh variabel retailing mix lo...</td>\n",
       "    </tr>\n",
       "  </tbody>\n",
       "</table>\n",
       "</div>"
      ],
      "text/plain": [
       "                                               Judul  \\\n",
       "0  PELAPORAN BIAYA KUALITAS UNTUK MEMINIMALKAN TE...   \n",
       "1  PENGARUH RETAILING MIX (BAURAN ECERAN) TERHADA...   \n",
       "2  PENGARUH CELEBRITY ENDORSER IWAN FALS TERHADAP...   \n",
       "3  Pengaruh Harga dan Kualitas Pelayanan terhadap...   \n",
       "4  Pengaruh Retailing Mix terhadap Keputusan Pemb...   \n",
       "\n",
       "                                        Abstrak_indo  \\\n",
       "0  ABSTRAK\\r\\n\\r\\nPenelitian ini mengungkapkan be...   \n",
       "1  Bauran eceran merupakan salah satu langkah pem...   \n",
       "2  Tujuan penelitian ini adalah mengetahui pengar...   \n",
       "3  Ali Rahbini, Pengaruh Harga dan Kualitas Pelay...   \n",
       "4  Tujuan penelitian ini adalah untuk mengetahui ...   \n",
       "\n",
       "                                           stem_kata  \n",
       "0  abstrak teliti rumus lapor biaya kualitas mini...  \n",
       "1  baur ecer salah langkah pasar hasil usaha gera...  \n",
       "2  tuju teliti pengaruh celebrity endorser iwan f...  \n",
       "3  ali rahbini pengaruh harga kualitas layan puas...  \n",
       "4  tuju teliti pengaruh variabel retailing mix lo...  "
      ]
     },
     "execution_count": 33,
     "metadata": {},
     "output_type": "execute_result"
    }
   ],
   "source": [
    "df['stem_kata'] = np.array(array_stemming)\n",
    "df.head()"
   ]
  },
  {
   "cell_type": "markdown",
   "metadata": {},
   "source": [
    ">Hasil pemrosesan stemming terhadap dataset disimpan kedalam data frame dengan nama kolom stem_kata"
   ]
  },
  {
   "cell_type": "markdown",
   "metadata": {},
   "source": [
    "## Proses TF-IDF"
   ]
  },
  {
   "cell_type": "markdown",
   "metadata": {},
   "source": [
    "Dalam tahap ini, data yang sudah di hilangkan kata penghubung dan simbolnya di lakukan proses TF-IDF <br>\n",
    "TF-IDF adalah suatu metode algoritma untuk menghitung bobot setiap kata di setiap dokumen dalam korpus. Metode ini juga terkenal efisien, mudah dan memiliki hasil yang akurat."
   ]
  },
  {
   "cell_type": "markdown",
   "metadata": {},
   "source": [
    "Inti utama dari algoritma ini adalah melakukan perhitungan nilai TF dan nilai IDF dari sebuah setiap kata kunci terhadap masing-masing dokumen. Nilai TF dihitung dengan rumus TF = jumlah frekuensi kata terpilih / jumlah kata dan nilai IDF dihitung dengan rumus IDF = log(jumlah dokumen / jumlah frekuensi kata terpilih). Selanjutnya kedua hasil ini akan dikalikan sehingga menghasilkan TF-IDF. <br><br> TF-IDF dihitung dengan menggunakan persamaan seperti berikut.\n",
    "\n",
    "$$\n",
    "W_{i, j}=\\frac{n_{i, j}}{\\sum_{j=1}^{p} n_{j, i}} \\log _{2} \\frac{D}{d_{j}}\n",
    "$$\n",
    "\n",
    "Keterangan:\n",
    "\n",
    "$\n",
    "{W_{i, j}}\\quad\\quad\\>: \\text { pembobotan tf-idf untuk term ke-j pada dokumen ke-i } \\\\\n",
    "$\n",
    "\n",
    "$\n",
    "{n_{i, j}}\\quad\\quad\\>\\>: \\text { jumlah kemunculan term ke-j pada dokumen ke-i }\\\\\n",
    "$\n",
    "\n",
    "$\n",
    "{p} \\quad\\quad\\quad\\>\\>: \\text { banyaknya term yang terbentuk }\\\\\n",
    "$\n",
    "\n",
    "$\n",
    "{\\sum_{j=1}^{p} n_{j, i}}: \\text { jumlah kemunculan seluruh term pada dokumen ke-i }\\\\\n",
    "$\n",
    "\n",
    "$\n",
    "{d_{j}} \\quad\\quad\\quad: \\text { banyaknya dokumen yang mengandung term ke-j }\\\\\n",
    "$"
   ]
  },
  {
   "cell_type": "code",
   "execution_count": 34,
   "metadata": {},
   "outputs": [],
   "source": [
    "from sklearn.feature_extraction.text import TfidfTransformer, CountVectorizer"
   ]
  },
  {
   "cell_type": "markdown",
   "metadata": {},
   "source": [
    ">import library TF-IDF dari scikit learn"
   ]
  },
  {
   "cell_type": "code",
   "execution_count": 35,
   "metadata": {},
   "outputs": [],
   "source": [
    "vectorizer = CountVectorizer()\n",
    "bag = vectorizer.fit_transform(df['stem_kata'])"
   ]
  },
  {
   "cell_type": "markdown",
   "metadata": {},
   "source": [
    ">proses perhitungan kemunculan term pada dataset dengan library countVectorizer"
   ]
  },
  {
   "cell_type": "code",
   "execution_count": 36,
   "metadata": {},
   "outputs": [
    {
     "name": "stdout",
     "output_type": "stream",
     "text": [
      "  (0, 0)\t1\n",
      "  (0, 816)\t4\n",
      "  (0, 710)\t1\n",
      "  (0, 435)\t5\n",
      "  (0, 100)\t6\n",
      "  (0, 410)\t6\n",
      "  (0, 511)\t1\n",
      "  (0, 703)\t4\n",
      "  (0, 636)\t5\n",
      "  (0, 121)\t5\n",
      "  (0, 142)\t2\n",
      "  (0, 351)\t2\n",
      "  (0, 319)\t2\n",
      "  (0, 723)\t2\n",
      "  (0, 594)\t5\n",
      "  (0, 839)\t5\n",
      "  (0, 642)\t5\n",
      "  (0, 852)\t1\n",
      "  (0, 874)\t3\n",
      "  (0, 504)\t1\n",
      "  (0, 164)\t1\n",
      "  (0, 245)\t1\n",
      "  (0, 224)\t1\n",
      "  (0, 163)\t1\n",
      "  (0, 881)\t1\n",
      "  :\t:\n",
      "  (49, 312)\t1\n",
      "  (49, 880)\t1\n",
      "  (49, 684)\t1\n",
      "  (49, 58)\t1\n",
      "  (49, 38)\t2\n",
      "  (49, 681)\t1\n",
      "  (49, 449)\t1\n",
      "  (49, 246)\t1\n",
      "  (49, 415)\t1\n",
      "  (49, 508)\t6\n",
      "  (49, 182)\t2\n",
      "  (49, 294)\t5\n",
      "  (49, 613)\t18\n",
      "  (49, 793)\t5\n",
      "  (49, 784)\t3\n",
      "  (49, 815)\t5\n",
      "  (49, 326)\t4\n",
      "  (49, 239)\t3\n",
      "  (49, 789)\t3\n",
      "  (49, 533)\t5\n",
      "  (49, 333)\t5\n",
      "  (49, 844)\t5\n",
      "  (49, 44)\t5\n",
      "  (49, 744)\t5\n",
      "  (49, 476)\t5 \n",
      "\n",
      "(50, 900)\n"
     ]
    }
   ],
   "source": [
    "print(bag, '\\n')\n",
    "print(bag.shape)"
   ]
  },
  {
   "cell_type": "markdown",
   "metadata": {},
   "source": [
    ">Diatas ini merupakan hasil kemunculan term untuk tiap dokumen"
   ]
  },
  {
   "cell_type": "code",
   "execution_count": 37,
   "metadata": {},
   "outputs": [
    {
     "name": "stdout",
     "output_type": "stream",
     "text": [
      "{'abstrak': 0, 'teliti': 816, 'rumus': 710, 'lapor': 435, 'biaya': 100, 'kualitas': 410, 'minimal': 511, 'risiko': 703, 'produk': 636, 'cacat': 121, 'cv': 142, 'kapuas': 351, 'inti': 319, 'sarana': 723, 'pengaruh': 594, 'tingkat': 839, 'profitabilitas': 642, 'tuju': 852, 'usaha': 874, 'metode': 504, 'deskriptif': 164, 'gambar': 245, 'fenomena': 224, 'deskripsi': 163, 'variabel': 881, 'asal': 52, 'data': 151, 'hasil': 273, 'periodik': 608, 'perinci': 606, 'kurang': 420, 'jual': 343, 'langsung': 433, 'kunci': 418, 'baur': 83, 'ecer': 192, 'salah': 716, 'langkah': 432, 'pasar': 583, 'gerak': 254, 'bidang': 101, 'produksi': 637, 'barang': 80, 'swalayan': 799, 'bangkal': 74, 'bisnis': 106, 'beli': 93, 'perhati': 603, 'perilaku': 605, 'konsumen': 396, 'ambil': 34, 'putus': 665, 'teori': 819, 'man': 470, 'evans': 214, 'foster': 240, 'lokasi': 453, 'layan': 438, 'harga': 272, 'suasana': 786, 'promosi': 644, 'simultan': 754, 'studi': 785, 'indah': 297, 'dekat': 156, 'kuantitatif': 412, 'teknik': 812, 'sampel': 718, 'purposive': 658, 'sampling': 720, 'kumpul': 417, 'wawancara': 890, 'pustaka': 662, 'kuesioner': 416, 'skala': 760, 'likert': 445, 'ukur': 864, 'uji': 863, 'instrumen': 312, 'validitas': 880, 'reliabilitas': 684, 'asumsi': 58, 'analisis': 38, 'regresi': 681, 'linier': 449, 'ganda': 246, 'parsial': 581, 'bangakalan': 73, 'kuci': 415, 'toko': 843, 'karyawan': 355, 'celebrity': 128, 'endorser': 206, 'iwan': 328, 'fals': 222, 'minat': 508, 'top': 846, 'coffee': 134, 'masyarakat': 485, 'sumur': 791, 'kembang': 367, 'lurah': 460, 'pejagan': 590, 'camat': 123, 'kabupaten': 347, 'survey': 795, 'populasi': 619, 'menngunakan': 497, 'aksidental': 18, 'responden': 691, 'desember': 161, 'lapang': 434, 'bagi': 69, 'riset': 702, 'olah': 558, 'bantu': 78, 'erangkat': 209, 'lunak': 459, 'spss': 772, 'versi': 886, 'for': 237, 'windows': 894, 'bebas': 88, 'trustworthiness': 850, 'expertise': 218, 'attractiveness': 65, 'respect': 690, 'similarity': 751, 'ikat': 292, 'minet': 510, 'bukti': 114, 'signifikan': 748, 'simpul': 753, 'miant': 505, 'ali': 26, 'rahbini': 669, 'puas': 651, 'belanja': 92, 'tom': 845, 'jerry': 340, 'bawah': 85, 'bimbing': 104, 'pribanus': 634, 'wantara': 889, 'nirma': 545, 'alat': 25, 'software': 764, 'hipotesis': 282, 'oleh': 559, 'kehandalan': 361, 'daya': 152, 'tanggap': 807, 'jamin': 332, 'empati': 203, 'fisik': 231, 'dominan': 182, 'andal': 41, 'retailing': 696, 'mix': 517, 'merchandise': 501, 'atmosfer': 62, 'gerai': 253, 'retailimg': 695, 'idola': 290, 'mart': 480, 'kwanyar': 423, 'landas': 430, 'filsafat': 227, 'positivisme': 624, 'tetap': 829, 'klasik': 379, 'pakai': 576, 'dasar': 150, 'nilai': 544, 'adjusted': 7, 'square': 773, 'besar': 97, 'sisa': 756, 'current': 141, 'ratio': 675, 'return': 697, 'on': 561, 'equity': 208, 'firm': 230, 'size': 759, 'leverage': 443, 'business': 118, 'risk': 704, 'bijak': 103, 'deviden': 167, 'manufaktur': 474, 'daftar': 144, 'bursa': 116, 'efek': 194, 'indonesia': 306, 'periode': 607, 'businees': 117, 'dividend': 179, 'payout': 587, 'efektivitas': 195, 'iklan': 294, 'consumer': 139, 'decision': 155, 'model': 520, 'cdm': 126, 'mahasiswa': 464, 'universitas': 870, 'trunojoyo': 849, 'madura': 462, 'orang': 568, 'jalur': 331, 'path': 585, 'analysis': 39, 'pesan': 613, 'kenal': 368, 'merek': 502, 'yakin': 897, 'sikap': 750, 'niat': 543, 'nyata': 554, 'inovasi': 311, 'unggul': 868, 'saing': 713, 'kerja': 369, 'terap': 823, 'optik': 564, 'reza': 699, 'lamongan': 428, 'kualitatif': 411, 'fenomenologi': 225, 'observasi': 556, 'guna': 266, 'dokumen': 181, 'reduction': 680, 'display': 175, 'conclusion': 137, 'drawing': 186, 'verification': 885, 'volume': 887, 'omzet': 560, 'alami': 24, 'tawar': 810, 'baik': 70, 'pangsa': 580, 'luas': 457, 'daerah': 143, 'jawa': 337, 'timur': 837, 'identifikasi': 289, 'ulang': 865, 'nasabah': 537, 'bri': 112, 'internet': 318, 'banking': 77, 'mana': 471, 'kota': 403, 'persepsi': 610, 'manfaat': 473, 'mudah': 529, 'aman': 31, 'sedia': 727, 'fitur': 232, 'positif': 623, 'kecuali': 359, 'objek': 555, 'xl': 896, 'meguji': 489, 'sistematis': 758, 'distribusi': 176, 'strategi': 779, 'segi': 728, 'pln': 618, 'badan': 68, 'milik': 507, 'negara': 539, 'listrik': 451, 'nasional': 538, 'kelola': 362, 'optimalisasi': 566, 'sumbr': 790, 'manusia': 475, 'proses': 647, 'karir': 352, 'semangat': 734, 'cabang': 120, 'sifat': 746, 'koefisien': 383, 'determinasi': 166, 'prestasi': 632, 'setia': 740, 'orgnisasional': 570, 'mentor': 499, 'sponsor': 771, 'sempat': 735, 'tumbuh': 853, 'atas': 61, 'kuat': 414, 'intention': 314, 'of': 557, 'this': 832, 'research': 688, 'is': 325, 'to': 841, 'know': 382, 'influence': 307, 'location': 452, 'effort': 197, 'and': 40, 'service': 737, 'quality': 666, 'purchasing': 655, 'also': 28, 'variable': 882, 'having': 275, 'bigger': 102, 'ppengaruh': 626, 'at': 60, 'home': 286, 'eat': 191, 'depot': 158, 'soto': 768, 'glorious': 259, 'asih': 53, 'use': 875, 'quantitative': 667, 'method': 503, 'with': 895, 'approach': 48, 'population': 620, 'the': 831, 'used': 876, 'accidental': 2, 'hence': 278, 'get': 256, 'responder': 692, 'collecting': 135, 'into': 320, 'library': 444, 'result': 694, 'mention': 498, 'tied': 834, 'that': 830, 'while': 892, 'from': 243, 'test': 828, 'prove': 648, 'free': 241, 'consisting': 138, 'by': 119, 'or': 567, 'together': 842, 'can': 125, 'be': 86, 'concluded': 136, 'both': 110, 'which': 891, 'have': 274, 'keywords': 372, 'purchase': 654, 'naik': 536, 'sebab': 724, 'minta': 512, 'saham': 712, 'turun': 858, 'hindar': 281, 'kondisi': 392, 'kisar': 377, 'tarik': 809, 'investor': 323, 'pecah': 588, 'stock': 778, 'split': 770, 'masalah': 483, 'bei': 91, 'paired': 575, 'sample': 719, 'amat': 33, 'penetuan': 593, 'beda': 89, 'tva': 859, 'dagang': 145, 'gera': 252, 'bundling': 115, 'strategy': 780, 'restoran': 693, 'quick': 668, 'chicken': 130, 'raya': 676, 'dukuh': 189, 'kupang': 419, 'yustina': 899, 'chrismardani': 131, 'focus': 235, 'form': 238, 'makan': 466, 'cepat': 129, 'saji': 714, 'surabaya': 793, 'bentuk': 95, 'paket': 577, 'mebagikan': 487, 'mengunakan': 494, 'perangkat': 599, 'tunjuk': 856, 'bangkrut': 75, 'minum': 513, 'altman': 30, 'ingat': 309, 'diskriptif': 174, 'jadi': 329, 'kritis': 409, 'sehat': 729, 'profesionalisme': 641, 'terampil': 821, 'aksesibilitas': 17, 'fleksibilitas': 233, 'percaya': 600, 'reputasi': 687, 'kredibilitas': 406, 'recovery': 679, 'serviscape': 738, 'pasien': 584, 'rumah': 709, 'sakit': 715, 'padu': 574, 'servisecape': 739, 'penlitian': 595, 'konsep': 395, 'aida': 13, 'helm': 277, 'ink': 310, 'attention': 64, 'interest': 316, 'desire': 162, 'action': 4, 'deterjen': 165, 'rinso': 701, 'anti': 46, 'noda': 546, 'domisili': 183, 'desa': 159, 'telang': 814, 'analis': 37, 'atribut': 63, 'penting': 596, 'sepeda': 736, 'motor': 526, 'jembatan': 338, 'suramadu': 794, 'diagram': 169, 'kartesius': 353, 'importance': 296, 'performance': 602, 'enam': 205, 'fokus': 236, 'utama': 878, 'tidak': 833, 'lampu': 429, 'terang': 822, 'pasang': 582, 'nyala': 553, 'malam': 469, 'tugas': 851, 'jasa': 336, 'marga': 478, 'tampil': 803, 'rapi': 672, 'jalan': 330, 'mulus': 532, 'lubang': 458, 'tiket': 835, 'uang': 860, 'kembali': 366, 'pt': 650, 'asuransi': 59, 'celaka': 127, 'patroli': 586, 'mogok': 523, 'ban': 72, 'bocor': 109, 'dll': 180, 'ulfiyatun': 866, 'mutohharoh': 534, 'tentu': 818, 'preferensi': 630, 'online': 562, 'fashion': 223, 'mahasiwa': 465, 'fakultas': 221, 'ekonomi': 199, 'journal': 342, 'economics': 193, 'program': 643, 'manajemen': 472, 'drs': 187, 'mohamad': 524, 'tambrin': 802, 'mm': 518, 'crismardani': 140, 'sistem': 757, 'informasi': 308, 'global': 258, 'bas': 82, 'komputer': 388, 'geser': 255, 'budaya': 113, 'konvensional': 398, 'praktis': 628, 'modern': 521, 'rilis': 700, 'faktor': 220, 'timbang': 836, 'menetukan': 493, 'gantung': 247, 'interdependent': 315, 'jenis': 339, 'statistic': 775, 'konfirmatori': 393, 'dapat': 149, 'kmo': 381, 'item': 327, 'rendah': 685, 'klasifikasi': 378, 'miserable': 516, 'statistik': 777, 'kecukuperatan': 360, 'hubung': 288, 'layak': 437, 'alternatif': 29, 'liquid': 450, 'tari': 808, 'purpossive': 659, 'statistical': 776, 'solution': 765, 'duga': 188, 'rasio': 673, 'likuiditas': 446, 'struktur': 784, 'modal': 519, 'debt': 154, 'roe': 706, 'lq': 456, 'relationship': 683, 'marketing': 479, 'untung': 872, 'komitmen': 385, 'komunikasi': 390, 'benar': 94, 'loyalitas': 454, 'adira': 6, 'finance': 228, 'wilayah': 893, 'barat': 81, 'negatif': 540, 'ana': 35, 'agustini': 12, 'dewi': 168, 'akuisisi': 23, 'melakuukan': 490, 'jurus': 345, 'pilih': 615, 'kriteria': 407, 'aktivitas': 22, 'alih': 27, 'asset': 55, 'anak': 36, 'total': 847, 'turnover': 857, 'investmen': 322, 'earning': 190, 'self': 731, 'efficacy': 196, 'magnitude': 463, 'generality': 251, 'strength': 781, 'akademik': 15, 'ikut': 295, 'mawapres': 486, 'terima': 826, 'temu': 817, 'teridiri': 825, 'muhammad': 530, 'sholeh': 742, 'televisi': 815, 'kartu': 354, 'seluler': 732, 'geger': 250, 'bambang': 71, 'setiyo': 741, 'pambudi': 578, 'suyono': 798, 'isi': 326, 'format': 239, 'sumber': 789, 'kompensasi': 386, 'finansial': 229, 'nonfinansial': 548, 'fhitung': 226, 'pos': 622, 'persero': 611, 'kantor': 350, 'didik': 171, 'latih': 436, 'rangka': 671, 'produktivitas': 639, 'meniliti': 495, 'ubah': 861, 'masuk': 484, 'beta': 98, 'abtrak': 1, 'uswatun': 877, 'khasanah': 373, 'etos': 212, 'presatasi': 631, 'diatribusi': 170, 'area': 49, 'mojokerto': 525, 'semanagt': 733, 'disiplin': 173, 'muncul': 533, 'lahir': 425, 'emis': 201, 'profesi': 640, 'lingkung': 447, 'keluarga': 364, 'peria': 604, 'biasa': 99, 'hidup': 280, 'kamal': 348, 'kab': 346, 'prihatin': 635, 'indikator': 302, 'etnografis': 211, 'sosialisasi': 767, 'peran': 598, 'modus': 522, 'operandi': 563, 'praktek': 627, 'jaring': 335, 'indicator': 300, 'behavioral': 90, 'sociology': 763, 'tingkah': 838, 'laku': 427, 'akibat': 16, 'teory': 820, 'exchange': 216, 'social': 762, 'kecewa': 358, 'adnya': 8, 'dorong': 184, 'sosial': 766, 'stres': 782, 'terhdap': 824, 'dosen': 185, 'stressor': 783, 'individu': 303, 'kelompok': 363, 'organisasi': 569, 'katakunci': 356, 'investasi': 321, 'rasional': 674, 'dana': 148, 'efisien': 198, 'aktif': 19, 'frekuensi': 242, 'dividen': 178, 'portofolio': 621, 'optimal': 565, 'kandidat': 349, 'non': 547, 'excess': 215, 'returns': 698, 'erb': 210, 'ci': 132, 'hitung': 283, 'komposisi': 387, 'proporsi': 645, 'adaro': 5, 'energy': 207, 'tbk': 811, 'gudang': 265, 'garam': 248, 'hm': 285, 'sampoerna': 721, 'astra': 57, 'otopart': 572, 'multi': 531, 'bintang': 105, 'agro': 10, 'lestari': 442, 'goodyear': 261, 'indika': 301, 'united': 869, 'tractors': 848, 'pabrik': 573, 'kertas': 370, 'tjiwi': 840, 'kimia': 375, 'indofood': 304, 'sukses': 787, 'makmur': 467, 'international': 317, 'bank': 76, 'indeks': 298, 'tunggal': 855, 'aktiva': 21, 'expected': 217, 'rekrutmen': 682, 'pusat': 661, 'gresik': 264, 'cipta': 133, 'sejahtera': 730, 'hening': 279, 'ary': 51, 'putra': 664, 'media': 488, 'facebook': 219, 'pemimbing': 591, 'klik': 380, 'sebar': 725, 'vairabel': 879, 'habibah': 267, 'ekuitas': 200, 'notebook': 549, 'acer': 3, 'kuasa': 413, 'hamper': 269, 'laksana': 426, 'penelitan': 592, 'sadar': 711, 'asosiasi': 54, 'instrument': 313, 'realibilitas': 678, 'pandang': 579, 'dealer': 153, 'surya': 796, 'agung': 11, 'resmi': 689, 'honda': 287, 'kotler': 404, 'armstrong': 50, 'gaya': 249, 'desain': 160, 'supra': 792, 'mempunyah': 492, 'emosional': 202, 'langgan': 431, 'variebel': 884, 'yamaha': 898, 'new': 542, 'jupiter': 344, 'liniear': 448, 'aplikasi': 47, 'kusniyah': 422, 'go': 260, 'public': 652, 'hj': 284, 'evaliati': 213, 'amaniyah': 32, 'msm': 528, 'prasetyo': 629, 'nugroho': 551, 'statis': 774, 'fluktuatif': 234, 'harap': 271, 'empiris': 204, 'aktifitas': 20, 'muzanni': 535, 'piutang': 617, 'tertahadap': 827, 'rentabilitas': 686, 'koperasi': 399, 'syariah': 801, 'bmt': 108, 'ugt': 862, 'sidogiri': 745, 'kpri': 405, 'kopergu': 400, 'purnamawati': 656, 'lembaga': 439, 'pinjam': 616, 'anggota': 43, 'otomatis': 571, 'tanam': 805, 'potensi': 625, 'kriterian': 408, 'putar': 663, 'kategori': 357, 'ike': 293, 'miranti': 515, 'maan': 461, 'ghodaqo': 257, 'siddiq': 743, 'jombang': 341, 'kurriwati': 421, 'sp': 769, 'msi': 527, 'publisitas': 653, 'personal': 612, 'menitikberatkan': 496, 'air': 14, 'mineral': 509, 'kemas': 365, 'purprosive': 660, 'maret': 477, 'reabilitas': 677, 'teknis': 813, 'memakaiuji': 491, 'anissa': 45, 'novianti': 550, 'minyak': 514, 'goreng': 262, 'sania': 722, 'graha': 263, 'permai': 609, 'nurita': 552, 'andriani': 42, 'ir': 324, 'had': 268, 'purnomo': 657, 'label': 424, 'simple': 752, 'random': 670, 'martabak': 481, 'hawaii': 276, 'brand': 111, 'awareness': 66, 'assocations': 56, 'kesan': 371, 'perceived': 601, 'loyalty': 455, 'handphone': 270, 'blackberry': 107, 'kopontren': 401, 'tanah': 804, 'merah': 500, 'campur': 124, 'aduk': 9, 'tangga': 806, 'bawa': 84, 'dalam': 146, 'sulit': 788, 'penuh': 597, 'beban': 87, 'berat': 96, 'dampak': 147, 'maksimal': 468, 'jangka': 334, 'lembur': 440, 'konflik': 394, 'awat': 67, 'wanita': 888, 'rs': 708, 'syamrabu': 800, 'unsur': 871, 'kirim': 376, 'komunikator': 391, 'komunikan': 389, 'umpan': 867, 'produktifitas': 638, 'pegawai': 589, 'negeri': 541, 'sipil': 755, 'dinas': 172, 'kian': 374, 'proporsional': 646, 'ftabel': 244, 'signifikansi': 749, 'varibel': 883, 'kominkator': 384, 'sigifikan': 747, 'upaya': 873, 'rokok': 707, 'mild': 506, 'socah': 761, 'sedap': 726, 'masako': 482, 'robatal': 705, 'sampang': 717, 'konsumsi': 397, 'lengkap': 441, 'independen': 299, 'dependen': 157, 'pribadi': 633, 'psikologis': 649, 'susu': 797, 'cair': 122, 'indomilk': 305, 'petis': 614, 'ikan': 291, 'tuna': 854, 'banyuanyar': 79, 'kosumen': 402, 'ditribusi': 177, 'jamu': 333, 'tolak': 844, 'angin': 44, 'sido': 744, 'manyar': 476}\n"
     ]
    }
   ],
   "source": [
    "print(vectorizer.vocabulary_)"
   ]
  },
  {
   "cell_type": "markdown",
   "metadata": {},
   "source": [
    ">Diatas merupakan list kata hasil proses countVectorizer"
   ]
  },
  {
   "cell_type": "code",
   "execution_count": 38,
   "metadata": {},
   "outputs": [],
   "source": [
    "tfidf = TfidfTransformer(use_idf=True,norm='l2',smooth_idf=True)\n",
    "vect_abstrak=tfidf.fit_transform(bag)"
   ]
  },
  {
   "cell_type": "markdown",
   "metadata": {},
   "source": [
    ">Pengimplementasian hasil perhitungan term dengan menggunakan library TF-IDF Scikit"
   ]
  },
  {
   "cell_type": "code",
   "execution_count": 39,
   "metadata": {},
   "outputs": [
    {
     "name": "stdout",
     "output_type": "stream",
     "text": [
      "  (0, 881)\t0.021028938994654387\n",
      "  (0, 874)\t0.11086890471131744\n",
      "  (0, 852)\t0.019813983102777613\n",
      "  (0, 839)\t0.20840198516144942\n",
      "  (0, 816)\t0.07183439006850123\n",
      "  (0, 723)\t0.14928520144873908\n",
      "  (0, 710)\t0.07464260072436954\n",
      "  (0, 703)\t0.27000964226065566\n",
      "  (0, 642)\t0.33751205282581953\n",
      "  (0, 636)\t0.17974874503420582\n",
      "  (0, 608)\t0.07464260072436954\n",
      "  (0, 606)\t0.14928520144873908\n",
      "  (0, 594)\t0.10514469497327193\n",
      "  (0, 511)\t0.06750241056516391\n",
      "  (0, 504)\t0.03163317298674004\n",
      "  (0, 435)\t0.33751205282581953\n",
      "  (0, 433)\t0.05529617486560535\n",
      "  (0, 420)\t0.14928520144873908\n",
      "  (0, 418)\t0.02326102077720252\n",
      "  (0, 410)\t0.26773319220201525\n",
      "  (0, 351)\t0.14928520144873908\n",
      "  (0, 343)\t0.052581600552977135\n",
      "  (0, 319)\t0.14928520144873908\n",
      "  (0, 273)\t0.02020972730121875\n",
      "  (0, 245)\t0.06750241056516391\n",
      "  :\t:\n",
      "  (49, 508)\t0.21370007501354352\n",
      "  (49, 476)\t0.22719752064003848\n",
      "  (49, 449)\t0.01714826718318389\n",
      "  (49, 445)\t0.026231474380714267\n",
      "  (49, 417)\t0.020232278123445597\n",
      "  (49, 416)\t0.022497555035185315\n",
      "  (49, 415)\t0.038008823898822645\n",
      "  (49, 412)\t0.020232278123445597\n",
      "  (49, 396)\t0.10942402545895465\n",
      "  (49, 333)\t0.22719752064003848\n",
      "  (49, 326)\t0.16437133935633744\n",
      "  (49, 312)\t0.026231474380714267\n",
      "  (49, 294)\t0.16004813820776992\n",
      "  (49, 273)\t0.012302893765996869\n",
      "  (49, 246)\t0.016408649421630492\n",
      "  (49, 239)\t0.12327850451725308\n",
      "  (49, 182)\t0.04151063742110766\n",
      "  (49, 156)\t0.0426103867360726\n",
      "  (49, 151)\t0.03143356642253503\n",
      "  (49, 93)\t0.1101790438839306\n",
      "  (49, 58)\t0.023839329650815536\n",
      "  (49, 44)\t0.22719752064003848\n",
      "  (49, 38)\t0.027749026277702513\n",
      "  (49, 34)\t0.019257041964826267\n",
      "  (49, 0)\t0.020232278123445597\n",
      "(50, 900)\n"
     ]
    }
   ],
   "source": [
    "print(vect_abstrak)\n",
    "print(vect_abstrak.shape)"
   ]
  },
  {
   "cell_type": "markdown",
   "metadata": {},
   "source": [
    ">Hasil dari TF-IDF untuk tiap dokumen"
   ]
  },
  {
   "cell_type": "code",
   "execution_count": 40,
   "metadata": {},
   "outputs": [
    {
     "data": {
      "text/plain": [
       "array(['abstrak', 'abtrak', 'accidental', 'acer', 'action', 'adaro',\n",
       "       'adira', 'adjusted', 'adnya', 'aduk', 'agro', 'agung', 'agustini',\n",
       "       'aida', 'air', 'akademik', 'akibat', 'aksesibilitas', 'aksidental',\n",
       "       'aktif', 'aktifitas', 'aktiva', 'aktivitas', 'akuisisi', 'alami',\n",
       "       'alat', 'ali', 'alih', 'also', 'alternatif', 'altman', 'aman',\n",
       "       'amaniyah', 'amat', 'ambil', 'ana', 'anak', 'analis', 'analisis',\n",
       "       'analysis', 'and', 'andal', 'andriani', 'anggota', 'angin',\n",
       "       'anissa', 'anti', 'aplikasi', 'approach', 'area', 'armstrong',\n",
       "       'ary', 'asal', 'asih', 'asosiasi', 'asset', 'assocations', 'astra',\n",
       "       'asumsi', 'asuransi', 'at', 'atas', 'atmosfer', 'atribut',\n",
       "       'attention', 'attractiveness', 'awareness', 'awat', 'badan',\n",
       "       'bagi', 'baik', 'bambang', 'ban', 'bangakalan', 'bangkal',\n",
       "       'bangkrut', 'bank', 'banking', 'bantu', 'banyuanyar', 'barang',\n",
       "       'barat', 'bas', 'baur', 'bawa', 'bawah', 'be', 'beban', 'bebas',\n",
       "       'beda', 'behavioral', 'bei', 'belanja', 'beli', 'benar', 'bentuk',\n",
       "       'berat', 'besar', 'beta', 'biasa', 'biaya', 'bidang', 'bigger',\n",
       "       'bijak', 'bimbing', 'bintang', 'bisnis', 'blackberry', 'bmt',\n",
       "       'bocor', 'both', 'brand', 'bri', 'budaya', 'bukti', 'bundling',\n",
       "       'bursa', 'businees', 'business', 'by', 'cabang', 'cacat', 'cair',\n",
       "       'camat', 'campur', 'can', 'cdm', 'celaka', 'celebrity', 'cepat',\n",
       "       'chicken', 'chrismardani', 'ci', 'cipta', 'coffee', 'collecting',\n",
       "       'concluded', 'conclusion', 'consisting', 'consumer', 'crismardani',\n",
       "       'current', 'cv', 'daerah', 'daftar', 'dagang', 'dalam', 'dampak',\n",
       "       'dana', 'dapat', 'dasar', 'data', 'daya', 'dealer', 'debt',\n",
       "       'decision', 'dekat', 'dependen', 'depot', 'desa', 'desain',\n",
       "       'desember', 'desire', 'deskripsi', 'deskriptif', 'deterjen',\n",
       "       'determinasi', 'deviden', 'dewi', 'diagram', 'diatribusi', 'didik',\n",
       "       'dinas', 'disiplin', 'diskriptif', 'display', 'distribusi',\n",
       "       'ditribusi', 'dividen', 'dividend', 'dll', 'dokumen', 'dominan',\n",
       "       'domisili', 'dorong', 'dosen', 'drawing', 'drs', 'duga', 'dukuh',\n",
       "       'earning', 'eat', 'ecer', 'economics', 'efek', 'efektivitas',\n",
       "       'efficacy', 'effort', 'efisien', 'ekonomi', 'ekuitas', 'emis',\n",
       "       'emosional', 'empati', 'empiris', 'enam', 'endorser', 'energy',\n",
       "       'equity', 'erangkat', 'erb', 'etnografis', 'etos', 'evaliati',\n",
       "       'evans', 'excess', 'exchange', 'expected', 'expertise', 'facebook',\n",
       "       'faktor', 'fakultas', 'fals', 'fashion', 'fenomena',\n",
       "       'fenomenologi', 'fhitung', 'filsafat', 'finance', 'finansial',\n",
       "       'firm', 'fisik', 'fitur', 'fleksibilitas', 'fluktuatif', 'focus',\n",
       "       'fokus', 'for', 'form', 'format', 'foster', 'free', 'frekuensi',\n",
       "       'from', 'ftabel', 'gambar', 'ganda', 'gantung', 'garam', 'gaya',\n",
       "       'geger', 'generality', 'gera', 'gerai', 'gerak', 'geser', 'get',\n",
       "       'ghodaqo', 'global', 'glorious', 'go', 'goodyear', 'goreng',\n",
       "       'graha', 'gresik', 'gudang', 'guna', 'habibah', 'had', 'hamper',\n",
       "       'handphone', 'harap', 'harga', 'hasil', 'have', 'having', 'hawaii',\n",
       "       'helm', 'hence', 'hening', 'hidup', 'hindar', 'hipotesis',\n",
       "       'hitung', 'hj', 'hm', 'home', 'honda', 'hubung', 'identifikasi',\n",
       "       'idola', 'ikan', 'ikat', 'ike', 'iklan', 'ikut', 'importance',\n",
       "       'indah', 'indeks', 'independen', 'indicator', 'indika',\n",
       "       'indikator', 'individu', 'indofood', 'indomilk', 'indonesia',\n",
       "       'influence', 'informasi', 'ingat', 'ink', 'inovasi', 'instrumen',\n",
       "       'instrument', 'intention', 'interdependent', 'interest',\n",
       "       'international', 'internet', 'inti', 'into', 'investasi',\n",
       "       'investmen', 'investor', 'ir', 'is', 'isi', 'item', 'iwan', 'jadi',\n",
       "       'jalan', 'jalur', 'jamin', 'jamu', 'jangka', 'jaring', 'jasa',\n",
       "       'jawa', 'jembatan', 'jenis', 'jerry', 'jombang', 'journal', 'jual',\n",
       "       'jupiter', 'jurus', 'kab', 'kabupaten', 'kamal', 'kandidat',\n",
       "       'kantor', 'kapuas', 'karir', 'kartesius', 'kartu', 'karyawan',\n",
       "       'katakunci', 'kategori', 'kecewa', 'kecuali', 'kecukuperatan',\n",
       "       'kehandalan', 'kelola', 'kelompok', 'keluarga', 'kemas', 'kembali',\n",
       "       'kembang', 'kenal', 'kerja', 'kertas', 'kesan', 'keywords',\n",
       "       'khasanah', 'kian', 'kimia', 'kirim', 'kisar', 'klasifikasi',\n",
       "       'klasik', 'klik', 'kmo', 'know', 'koefisien', 'kominkator',\n",
       "       'komitmen', 'kompensasi', 'komposisi', 'komputer', 'komunikan',\n",
       "       'komunikasi', 'komunikator', 'kondisi', 'konfirmatori', 'konflik',\n",
       "       'konsep', 'konsumen', 'konsumsi', 'konvensional', 'koperasi',\n",
       "       'kopergu', 'kopontren', 'kosumen', 'kota', 'kotler', 'kpri',\n",
       "       'kredibilitas', 'kriteria', 'kriterian', 'kritis', 'kualitas',\n",
       "       'kualitatif', 'kuantitatif', 'kuasa', 'kuat', 'kuci', 'kuesioner',\n",
       "       'kumpul', 'kunci', 'kupang', 'kurang', 'kurriwati', 'kusniyah',\n",
       "       'kwanyar', 'label', 'lahir', 'laksana', 'laku', 'lamongan',\n",
       "       'lampu', 'landas', 'langgan', 'langkah', 'langsung', 'lapang',\n",
       "       'lapor', 'latih', 'layak', 'layan', 'lembaga', 'lembur', 'lengkap',\n",
       "       'lestari', 'leverage', 'library', 'likert', 'likuiditas',\n",
       "       'lingkung', 'liniear', 'linier', 'liquid', 'listrik', 'location',\n",
       "       'lokasi', 'loyalitas', 'loyalty', 'lq', 'luas', 'lubang', 'lunak',\n",
       "       'lurah', 'maan', 'madura', 'magnitude', 'mahasiswa', 'mahasiwa',\n",
       "       'makan', 'makmur', 'maksimal', 'malam', 'man', 'mana', 'manajemen',\n",
       "       'manfaat', 'manufaktur', 'manusia', 'manyar', 'maret', 'marga',\n",
       "       'marketing', 'mart', 'martabak', 'masako', 'masalah', 'masuk',\n",
       "       'masyarakat', 'mawapres', 'mebagikan', 'media', 'meguji',\n",
       "       'melakuukan', 'memakaiuji', 'mempunyah', 'menetukan', 'mengunakan',\n",
       "       'meniliti', 'menitikberatkan', 'menngunakan', 'mention', 'mentor',\n",
       "       'merah', 'merchandise', 'merek', 'method', 'metode', 'miant',\n",
       "       'mild', 'milik', 'minat', 'mineral', 'minet', 'minimal', 'minta',\n",
       "       'minum', 'minyak', 'miranti', 'miserable', 'mix', 'mm', 'modal',\n",
       "       'model', 'modern', 'modus', 'mogok', 'mohamad', 'mojokerto',\n",
       "       'motor', 'msi', 'msm', 'mudah', 'muhammad', 'multi', 'mulus',\n",
       "       'muncul', 'mutohharoh', 'muzanni', 'naik', 'nasabah', 'nasional',\n",
       "       'negara', 'negatif', 'negeri', 'new', 'niat', 'nilai', 'nirma',\n",
       "       'noda', 'non', 'nonfinansial', 'notebook', 'novianti', 'nugroho',\n",
       "       'nurita', 'nyala', 'nyata', 'objek', 'observasi', 'of', 'olah',\n",
       "       'oleh', 'omzet', 'on', 'online', 'operandi', 'optik', 'optimal',\n",
       "       'optimalisasi', 'or', 'orang', 'organisasi', 'orgnisasional',\n",
       "       'otomatis', 'otopart', 'pabrik', 'padu', 'paired', 'pakai',\n",
       "       'paket', 'pambudi', 'pandang', 'pangsa', 'parsial', 'pasang',\n",
       "       'pasar', 'pasien', 'path', 'patroli', 'payout', 'pecah', 'pegawai',\n",
       "       'pejagan', 'pemimbing', 'penelitan', 'penetuan', 'pengaruh',\n",
       "       'penlitian', 'penting', 'penuh', 'peran', 'perangkat', 'percaya',\n",
       "       'perceived', 'performance', 'perhati', 'peria', 'perilaku',\n",
       "       'perinci', 'periode', 'periodik', 'permai', 'persepsi', 'persero',\n",
       "       'personal', 'pesan', 'petis', 'pilih', 'pinjam', 'piutang', 'pln',\n",
       "       'populasi', 'population', 'portofolio', 'pos', 'positif',\n",
       "       'positivisme', 'potensi', 'ppengaruh', 'praktek', 'praktis',\n",
       "       'prasetyo', 'preferensi', 'presatasi', 'prestasi', 'pribadi',\n",
       "       'pribanus', 'prihatin', 'produk', 'produksi', 'produktifitas',\n",
       "       'produktivitas', 'profesi', 'profesionalisme', 'profitabilitas',\n",
       "       'program', 'promosi', 'proporsi', 'proporsional', 'proses',\n",
       "       'prove', 'psikologis', 'pt', 'puas', 'public', 'publisitas',\n",
       "       'purchase', 'purchasing', 'purnamawati', 'purnomo', 'purposive',\n",
       "       'purpossive', 'purprosive', 'pusat', 'pustaka', 'putar', 'putra',\n",
       "       'putus', 'quality', 'quantitative', 'quick', 'rahbini', 'random',\n",
       "       'rangka', 'rapi', 'rasio', 'rasional', 'ratio', 'raya',\n",
       "       'reabilitas', 'realibilitas', 'recovery', 'reduction', 'regresi',\n",
       "       'rekrutmen', 'relationship', 'reliabilitas', 'rendah',\n",
       "       'rentabilitas', 'reputasi', 'research', 'resmi', 'respect',\n",
       "       'responden', 'responder', 'restoran', 'result', 'retailimg',\n",
       "       'retailing', 'return', 'returns', 'reza', 'rilis', 'rinso',\n",
       "       'riset', 'risiko', 'risk', 'robatal', 'roe', 'rokok', 'rs',\n",
       "       'rumah', 'rumus', 'sadar', 'saham', 'saing', 'saji', 'sakit',\n",
       "       'salah', 'sampang', 'sampel', 'sample', 'sampling', 'sampoerna',\n",
       "       'sania', 'sarana', 'sebab', 'sebar', 'sedap', 'sedia', 'segi',\n",
       "       'sehat', 'sejahtera', 'self', 'seluler', 'semanagt', 'semangat',\n",
       "       'sempat', 'sepeda', 'service', 'serviscape', 'servisecape',\n",
       "       'setia', 'setiyo', 'sholeh', 'siddiq', 'sido', 'sidogiri', 'sifat',\n",
       "       'sigifikan', 'signifikan', 'signifikansi', 'sikap', 'similarity',\n",
       "       'simple', 'simpul', 'simultan', 'sipil', 'sisa', 'sistem',\n",
       "       'sistematis', 'size', 'skala', 'socah', 'social', 'sociology',\n",
       "       'software', 'solution', 'sosial', 'sosialisasi', 'soto', 'sp',\n",
       "       'split', 'sponsor', 'spss', 'square', 'statis', 'statistic',\n",
       "       'statistical', 'statistik', 'stock', 'strategi', 'strategy',\n",
       "       'strength', 'stres', 'stressor', 'struktur', 'studi', 'suasana',\n",
       "       'sukses', 'sulit', 'sumber', 'sumbr', 'sumur', 'supra', 'surabaya',\n",
       "       'suramadu', 'survey', 'surya', 'susu', 'suyono', 'swalayan',\n",
       "       'syamrabu', 'syariah', 'tambrin', 'tampil', 'tanah', 'tanam',\n",
       "       'tangga', 'tanggap', 'tari', 'tarik', 'tawar', 'tbk', 'teknik',\n",
       "       'teknis', 'telang', 'televisi', 'teliti', 'temu', 'tentu', 'teori',\n",
       "       'teory', 'terampil', 'terang', 'terap', 'terhdap', 'teridiri',\n",
       "       'terima', 'tertahadap', 'test', 'tetap', 'that', 'the', 'this',\n",
       "       'tidak', 'tied', 'tiket', 'timbang', 'timur', 'tingkah', 'tingkat',\n",
       "       'tjiwi', 'to', 'together', 'toko', 'tolak', 'tom', 'top', 'total',\n",
       "       'tractors', 'trunojoyo', 'trustworthiness', 'tugas', 'tuju',\n",
       "       'tumbuh', 'tuna', 'tunggal', 'tunjuk', 'turnover', 'turun', 'tva',\n",
       "       'uang', 'ubah', 'ugt', 'uji', 'ukur', 'ulang', 'ulfiyatun',\n",
       "       'umpan', 'unggul', 'united', 'universitas', 'unsur', 'untung',\n",
       "       'upaya', 'usaha', 'use', 'used', 'uswatun', 'utama', 'vairabel',\n",
       "       'validitas', 'variabel', 'variable', 'varibel', 'variebel',\n",
       "       'verification', 'versi', 'volume', 'wanita', 'wantara',\n",
       "       'wawancara', 'which', 'while', 'wilayah', 'windows', 'with', 'xl',\n",
       "       'yakin', 'yamaha', 'yustina'], dtype=object)"
      ]
     },
     "execution_count": 40,
     "metadata": {},
     "output_type": "execute_result"
    }
   ],
   "source": [
    "term=vectorizer.get_feature_names_out()\n",
    "term"
   ]
  },
  {
   "cell_type": "markdown",
   "metadata": {},
   "source": [
    ">list nama term dari semua dokumen"
   ]
  },
  {
   "cell_type": "code",
   "execution_count": 41,
   "metadata": {},
   "outputs": [
    {
     "data": {
      "text/html": [
       "<div>\n",
       "<style scoped>\n",
       "    .dataframe tbody tr th:only-of-type {\n",
       "        vertical-align: middle;\n",
       "    }\n",
       "\n",
       "    .dataframe tbody tr th {\n",
       "        vertical-align: top;\n",
       "    }\n",
       "\n",
       "    .dataframe thead tr th {\n",
       "        text-align: left;\n",
       "    }\n",
       "</style>\n",
       "<table border=\"1\" class=\"dataframe\">\n",
       "  <thead>\n",
       "    <tr>\n",
       "      <th></th>\n",
       "      <th>abstrak</th>\n",
       "      <th>abtrak</th>\n",
       "      <th>accidental</th>\n",
       "      <th>acer</th>\n",
       "      <th>action</th>\n",
       "      <th>adaro</th>\n",
       "      <th>adira</th>\n",
       "      <th>adjusted</th>\n",
       "      <th>adnya</th>\n",
       "      <th>aduk</th>\n",
       "      <th>...</th>\n",
       "      <th>wawancara</th>\n",
       "      <th>which</th>\n",
       "      <th>while</th>\n",
       "      <th>wilayah</th>\n",
       "      <th>windows</th>\n",
       "      <th>with</th>\n",
       "      <th>xl</th>\n",
       "      <th>yakin</th>\n",
       "      <th>yamaha</th>\n",
       "      <th>yustina</th>\n",
       "    </tr>\n",
       "  </thead>\n",
       "  <tbody>\n",
       "    <tr>\n",
       "      <th>0</th>\n",
       "      <td>0.033235</td>\n",
       "      <td>0.0</td>\n",
       "      <td>0.0</td>\n",
       "      <td>0.0</td>\n",
       "      <td>0.0</td>\n",
       "      <td>0.0</td>\n",
       "      <td>0.0</td>\n",
       "      <td>0.000000</td>\n",
       "      <td>0.0</td>\n",
       "      <td>0.0</td>\n",
       "      <td>...</td>\n",
       "      <td>0.000000</td>\n",
       "      <td>0.0</td>\n",
       "      <td>0.0</td>\n",
       "      <td>0.0</td>\n",
       "      <td>0.000000</td>\n",
       "      <td>0.0</td>\n",
       "      <td>0.000000</td>\n",
       "      <td>0.000000</td>\n",
       "      <td>0.0</td>\n",
       "      <td>0.0</td>\n",
       "    </tr>\n",
       "    <tr>\n",
       "      <th>1</th>\n",
       "      <td>0.000000</td>\n",
       "      <td>0.0</td>\n",
       "      <td>0.0</td>\n",
       "      <td>0.0</td>\n",
       "      <td>0.0</td>\n",
       "      <td>0.0</td>\n",
       "      <td>0.0</td>\n",
       "      <td>0.000000</td>\n",
       "      <td>0.0</td>\n",
       "      <td>0.0</td>\n",
       "      <td>...</td>\n",
       "      <td>0.041659</td>\n",
       "      <td>0.0</td>\n",
       "      <td>0.0</td>\n",
       "      <td>0.0</td>\n",
       "      <td>0.000000</td>\n",
       "      <td>0.0</td>\n",
       "      <td>0.000000</td>\n",
       "      <td>0.000000</td>\n",
       "      <td>0.0</td>\n",
       "      <td>0.0</td>\n",
       "    </tr>\n",
       "    <tr>\n",
       "      <th>2</th>\n",
       "      <td>0.000000</td>\n",
       "      <td>0.0</td>\n",
       "      <td>0.0</td>\n",
       "      <td>0.0</td>\n",
       "      <td>0.0</td>\n",
       "      <td>0.0</td>\n",
       "      <td>0.0</td>\n",
       "      <td>0.000000</td>\n",
       "      <td>0.0</td>\n",
       "      <td>0.0</td>\n",
       "      <td>...</td>\n",
       "      <td>0.000000</td>\n",
       "      <td>0.0</td>\n",
       "      <td>0.0</td>\n",
       "      <td>0.0</td>\n",
       "      <td>0.075093</td>\n",
       "      <td>0.0</td>\n",
       "      <td>0.000000</td>\n",
       "      <td>0.000000</td>\n",
       "      <td>0.0</td>\n",
       "      <td>0.0</td>\n",
       "    </tr>\n",
       "    <tr>\n",
       "      <th>3</th>\n",
       "      <td>0.000000</td>\n",
       "      <td>0.0</td>\n",
       "      <td>0.0</td>\n",
       "      <td>0.0</td>\n",
       "      <td>0.0</td>\n",
       "      <td>0.0</td>\n",
       "      <td>0.0</td>\n",
       "      <td>0.000000</td>\n",
       "      <td>0.0</td>\n",
       "      <td>0.0</td>\n",
       "      <td>...</td>\n",
       "      <td>0.000000</td>\n",
       "      <td>0.0</td>\n",
       "      <td>0.0</td>\n",
       "      <td>0.0</td>\n",
       "      <td>0.000000</td>\n",
       "      <td>0.0</td>\n",
       "      <td>0.000000</td>\n",
       "      <td>0.000000</td>\n",
       "      <td>0.0</td>\n",
       "      <td>0.0</td>\n",
       "    </tr>\n",
       "    <tr>\n",
       "      <th>4</th>\n",
       "      <td>0.000000</td>\n",
       "      <td>0.0</td>\n",
       "      <td>0.0</td>\n",
       "      <td>0.0</td>\n",
       "      <td>0.0</td>\n",
       "      <td>0.0</td>\n",
       "      <td>0.0</td>\n",
       "      <td>0.054443</td>\n",
       "      <td>0.0</td>\n",
       "      <td>0.0</td>\n",
       "      <td>...</td>\n",
       "      <td>0.000000</td>\n",
       "      <td>0.0</td>\n",
       "      <td>0.0</td>\n",
       "      <td>0.0</td>\n",
       "      <td>0.000000</td>\n",
       "      <td>0.0</td>\n",
       "      <td>0.000000</td>\n",
       "      <td>0.000000</td>\n",
       "      <td>0.0</td>\n",
       "      <td>0.0</td>\n",
       "    </tr>\n",
       "    <tr>\n",
       "      <th>5</th>\n",
       "      <td>0.031254</td>\n",
       "      <td>0.0</td>\n",
       "      <td>0.0</td>\n",
       "      <td>0.0</td>\n",
       "      <td>0.0</td>\n",
       "      <td>0.0</td>\n",
       "      <td>0.0</td>\n",
       "      <td>0.000000</td>\n",
       "      <td>0.0</td>\n",
       "      <td>0.0</td>\n",
       "      <td>...</td>\n",
       "      <td>0.000000</td>\n",
       "      <td>0.0</td>\n",
       "      <td>0.0</td>\n",
       "      <td>0.0</td>\n",
       "      <td>0.000000</td>\n",
       "      <td>0.0</td>\n",
       "      <td>0.000000</td>\n",
       "      <td>0.000000</td>\n",
       "      <td>0.0</td>\n",
       "      <td>0.0</td>\n",
       "    </tr>\n",
       "    <tr>\n",
       "      <th>6</th>\n",
       "      <td>0.060309</td>\n",
       "      <td>0.0</td>\n",
       "      <td>0.0</td>\n",
       "      <td>0.0</td>\n",
       "      <td>0.0</td>\n",
       "      <td>0.0</td>\n",
       "      <td>0.0</td>\n",
       "      <td>0.000000</td>\n",
       "      <td>0.0</td>\n",
       "      <td>0.0</td>\n",
       "      <td>...</td>\n",
       "      <td>0.000000</td>\n",
       "      <td>0.0</td>\n",
       "      <td>0.0</td>\n",
       "      <td>0.0</td>\n",
       "      <td>0.000000</td>\n",
       "      <td>0.0</td>\n",
       "      <td>0.000000</td>\n",
       "      <td>0.135446</td>\n",
       "      <td>0.0</td>\n",
       "      <td>0.0</td>\n",
       "    </tr>\n",
       "    <tr>\n",
       "      <th>7</th>\n",
       "      <td>0.036733</td>\n",
       "      <td>0.0</td>\n",
       "      <td>0.0</td>\n",
       "      <td>0.0</td>\n",
       "      <td>0.0</td>\n",
       "      <td>0.0</td>\n",
       "      <td>0.0</td>\n",
       "      <td>0.000000</td>\n",
       "      <td>0.0</td>\n",
       "      <td>0.0</td>\n",
       "      <td>...</td>\n",
       "      <td>0.055517</td>\n",
       "      <td>0.0</td>\n",
       "      <td>0.0</td>\n",
       "      <td>0.0</td>\n",
       "      <td>0.000000</td>\n",
       "      <td>0.0</td>\n",
       "      <td>0.000000</td>\n",
       "      <td>0.000000</td>\n",
       "      <td>0.0</td>\n",
       "      <td>0.0</td>\n",
       "    </tr>\n",
       "    <tr>\n",
       "      <th>8</th>\n",
       "      <td>0.000000</td>\n",
       "      <td>0.0</td>\n",
       "      <td>0.0</td>\n",
       "      <td>0.0</td>\n",
       "      <td>0.0</td>\n",
       "      <td>0.0</td>\n",
       "      <td>0.0</td>\n",
       "      <td>0.000000</td>\n",
       "      <td>0.0</td>\n",
       "      <td>0.0</td>\n",
       "      <td>...</td>\n",
       "      <td>0.000000</td>\n",
       "      <td>0.0</td>\n",
       "      <td>0.0</td>\n",
       "      <td>0.0</td>\n",
       "      <td>0.000000</td>\n",
       "      <td>0.0</td>\n",
       "      <td>0.000000</td>\n",
       "      <td>0.000000</td>\n",
       "      <td>0.0</td>\n",
       "      <td>0.0</td>\n",
       "    </tr>\n",
       "    <tr>\n",
       "      <th>9</th>\n",
       "      <td>0.000000</td>\n",
       "      <td>0.0</td>\n",
       "      <td>0.0</td>\n",
       "      <td>0.0</td>\n",
       "      <td>0.0</td>\n",
       "      <td>0.0</td>\n",
       "      <td>0.0</td>\n",
       "      <td>0.000000</td>\n",
       "      <td>0.0</td>\n",
       "      <td>0.0</td>\n",
       "      <td>...</td>\n",
       "      <td>0.000000</td>\n",
       "      <td>0.0</td>\n",
       "      <td>0.0</td>\n",
       "      <td>0.0</td>\n",
       "      <td>0.000000</td>\n",
       "      <td>0.0</td>\n",
       "      <td>0.419946</td>\n",
       "      <td>0.000000</td>\n",
       "      <td>0.0</td>\n",
       "      <td>0.0</td>\n",
       "    </tr>\n",
       "  </tbody>\n",
       "</table>\n",
       "<p>10 rows × 900 columns</p>\n",
       "</div>"
      ],
      "text/plain": [
       "    abstrak abtrak accidental acer action adaro adira  adjusted adnya aduk  \\\n",
       "0  0.033235    0.0        0.0  0.0    0.0   0.0   0.0  0.000000   0.0  0.0   \n",
       "1  0.000000    0.0        0.0  0.0    0.0   0.0   0.0  0.000000   0.0  0.0   \n",
       "2  0.000000    0.0        0.0  0.0    0.0   0.0   0.0  0.000000   0.0  0.0   \n",
       "3  0.000000    0.0        0.0  0.0    0.0   0.0   0.0  0.000000   0.0  0.0   \n",
       "4  0.000000    0.0        0.0  0.0    0.0   0.0   0.0  0.054443   0.0  0.0   \n",
       "5  0.031254    0.0        0.0  0.0    0.0   0.0   0.0  0.000000   0.0  0.0   \n",
       "6  0.060309    0.0        0.0  0.0    0.0   0.0   0.0  0.000000   0.0  0.0   \n",
       "7  0.036733    0.0        0.0  0.0    0.0   0.0   0.0  0.000000   0.0  0.0   \n",
       "8  0.000000    0.0        0.0  0.0    0.0   0.0   0.0  0.000000   0.0  0.0   \n",
       "9  0.000000    0.0        0.0  0.0    0.0   0.0   0.0  0.000000   0.0  0.0   \n",
       "\n",
       "   ... wawancara which while wilayah   windows with        xl     yakin  \\\n",
       "0  ...  0.000000   0.0   0.0     0.0  0.000000  0.0  0.000000  0.000000   \n",
       "1  ...  0.041659   0.0   0.0     0.0  0.000000  0.0  0.000000  0.000000   \n",
       "2  ...  0.000000   0.0   0.0     0.0  0.075093  0.0  0.000000  0.000000   \n",
       "3  ...  0.000000   0.0   0.0     0.0  0.000000  0.0  0.000000  0.000000   \n",
       "4  ...  0.000000   0.0   0.0     0.0  0.000000  0.0  0.000000  0.000000   \n",
       "5  ...  0.000000   0.0   0.0     0.0  0.000000  0.0  0.000000  0.000000   \n",
       "6  ...  0.000000   0.0   0.0     0.0  0.000000  0.0  0.000000  0.135446   \n",
       "7  ...  0.055517   0.0   0.0     0.0  0.000000  0.0  0.000000  0.000000   \n",
       "8  ...  0.000000   0.0   0.0     0.0  0.000000  0.0  0.000000  0.000000   \n",
       "9  ...  0.000000   0.0   0.0     0.0  0.000000  0.0  0.419946  0.000000   \n",
       "\n",
       "  yamaha yustina  \n",
       "0    0.0     0.0  \n",
       "1    0.0     0.0  \n",
       "2    0.0     0.0  \n",
       "3    0.0     0.0  \n",
       "4    0.0     0.0  \n",
       "5    0.0     0.0  \n",
       "6    0.0     0.0  \n",
       "7    0.0     0.0  \n",
       "8    0.0     0.0  \n",
       "9    0.0     0.0  \n",
       "\n",
       "[10 rows x 900 columns]"
      ]
     },
     "execution_count": 41,
     "metadata": {},
     "output_type": "execute_result"
    }
   ],
   "source": [
    "df_Tf_Idf =pd.DataFrame(data=vect_abstrak.toarray(), columns=[term])\n",
    "df_Tf_Idf.head(10)"
   ]
  },
  {
   "cell_type": "markdown",
   "metadata": {},
   "source": [
    ">Hasil TF-IDF dijadikan dataframe "
   ]
  },
  {
   "cell_type": "markdown",
   "metadata": {},
   "source": [
    "## Proses PCA dan K-Means Cluster"
   ]
  },
  {
   "cell_type": "markdown",
   "metadata": {},
   "source": [
    "PCA adalah sebuah metode bagaimana mereduksi dimensi dengan menggunakan beberapa garis/bidang yang disebut dengan principle components (PCs). untuk mendapat kan nilai PCA dibuthkan beberapa rumus berikut:\n",
    "Nilai Means per dokumen\n",
    "\n",
    "$$\n",
    "\\bar{x}=n\\left(\\sum_{i=1}^{n} \\frac{1}{x_{i}}\\right)^{-1}\n",
    "$$\n",
    "\n",
    "Nilai Varian dan Covarian\n",
    "\n",
    "$$\n",
    "\\operatorname{var}(X)=\\frac{\\sum_{i=1}^{n}\\left(X_{i}-\\bar{X}\\right)\\left(X_{i}-\\bar{X}\\right)}{n-1}\n",
    "$$\n",
    "\n",
    "Keterangan:\n",
    "\n",
    "$\n",
    "X_{i} : \\text {Populasi X ke i} \\\\\n",
    "$\n",
    "\n",
    "$\n",
    "\\bar{X} : \\text {Mean dari populasi X}\\\\\n",
    "$\n",
    "\n",
    "$\n",
    "n : \\text {Jumlah populasi}\\\\\n",
    "$\n",
    "\n",
    "$$\n",
    "\\operatorname{cov}(X, Y)=\\frac{\\sum_{i=1}^{n}\\left(X_{i}-\\bar{X}\\right)\\left(Y_{i}-\\bar{Y}\\right)}{n-1}\n",
    "$$\n",
    "\n",
    "Keterangan:\n",
    "\n",
    "$\n",
    "X_{i} : \\text {Populasi X ke i} \\\\\n",
    "$\n",
    "\n",
    "$\n",
    "\\bar{X} : \\text {Mean dari populasi X}\\\\\n",
    "$\n",
    "\n",
    "$\n",
    "Y_{i} : \\text {Populasi X ke i} \\\\\n",
    "$\n",
    "\n",
    "$\n",
    "\\bar{Y} : \\text {Mean dari populasi X}\\\\\n",
    "$\n",
    "\n",
    "$\n",
    "n : \\text {Jumlah populasi}\\\\\n",
    "$\n",
    "\n",
    "Nilai eigen value dan eigen vactor\n",
    "\n",
    "$$\n",
    "(\\lambda I-A) \\mathbf{v}=\\mathbf{0}\n",
    "$$\n",
    "\n",
    "Keterangan:\n",
    "\n",
    "$\n",
    "\\lambda : \\text {eigen velue}\\\\\n",
    "$\n",
    "\n",
    "$\n",
    "v : \\text {eigen vactor}\\\\\n",
    "$"
   ]
  },
  {
   "cell_type": "code",
   "execution_count": 42,
   "metadata": {},
   "outputs": [],
   "source": [
    "from sklearn.decomposition import PCA\n",
    "from sklearn.cluster import KMeans\n",
    "import matplotlib.pyplot as plt"
   ]
  },
  {
   "cell_type": "markdown",
   "metadata": {},
   "source": [
    ">Import library PCA dan Kmeans dari scikit learn"
   ]
  },
  {
   "cell_type": "code",
   "execution_count": 43,
   "metadata": {},
   "outputs": [
    {
     "name": "stdout",
     "output_type": "stream",
     "text": [
      "[0.06274265 0.10717351 0.14538849 0.18329205 0.21677968 0.24989317\n",
      " 0.27975215 0.30810749 0.33563811 0.36194196 0.38683256 0.41117129\n",
      " 0.43499556 0.45818908 0.48094769 0.50359706 0.52510548 0.54637363\n",
      " 0.56746726 0.58838902 0.60884081 0.62903189 0.64889371 0.66813264\n",
      " 0.68706699 0.70560181 0.72354773 0.74082513 0.75782859 0.77407278\n",
      " 0.78986673 0.80525226 0.82027378 0.83508825 0.84973883 0.86381859\n",
      " 0.87770348 0.8904326  0.90298528 0.91520234 0.92716815 0.93871952\n",
      " 0.94990676 0.96055844 0.97111827 0.98136581 0.98865864 0.99577122\n",
      " 1.         1.        ]\n",
      "(50,)\n"
     ]
    }
   ],
   "source": [
    "pca = PCA().fit(df_Tf_Idf)\n",
    "cmv = pca.explained_variance_ratio_.cumsum()\n",
    "print(cmv)\n",
    "print(cmv.shape)"
   ]
  },
  {
   "cell_type": "markdown",
   "metadata": {},
   "source": [
    ">Diatas merupakan penjelasan mengenai probabilitas kemungkinan dari reduksi PCA yang akan didapat ketika menentukan berapa dimensi yang akan kita ambil"
   ]
  },
  {
   "cell_type": "code",
   "execution_count": 44,
   "metadata": {},
   "outputs": [
    {
     "data": {
      "text/plain": [
       "(50, 50)"
      ]
     },
     "execution_count": 44,
     "metadata": {},
     "output_type": "execute_result"
    }
   ],
   "source": [
    "pca = PCA(n_components=50)\n",
    "data_PCA = pca.fit_transform(df_Tf_Idf)\n",
    "data_PCA.shape"
   ]
  },
  {
   "cell_type": "markdown",
   "metadata": {},
   "source": [
    ">Hasil dari pemrosesan PCA"
   ]
  },
  {
   "cell_type": "code",
   "execution_count": 45,
   "metadata": {},
   "outputs": [
    {
     "data": {
      "image/png": "[encoded data removed]",
      "text/plain": [
       "<Figure size 432x288 with 1 Axes>"
      ]
     },
     "metadata": {
      "needs_background": "light"
     },
     "output_type": "display_data"
    }
   ],
   "source": [
    "elbow = []\n",
    "for i in range(1, 11):\n",
    "    kmeans = KMeans(n_clusters=i, random_state=5)\n",
    "    kmeans.fit(data_PCA)\n",
    "    elbow.append(kmeans.inertia_)\n",
    "plt.plot(range(1, 11), elbow, 'bx-')\n",
    "plt.title('Metode Elbow')\n",
    "plt.xlabel('Jumlah clusters')\n",
    "plt.ylabel('elbow')\n",
    "plt.show()"
   ]
  },
  {
   "cell_type": "markdown",
   "metadata": {},
   "source": [
    ">Menampilkan grafik dari percobaan clustering dari hasil PCA yang sudah di proses dengan jumlah cluster dimulai dari 1 hingga 11 cluster dengan menggunakan metode elbow. Metode Elbow digunakan untuk menentukan optimasi banyaknya cluster yang selanjutnya akan digunakan dalam perhitungan clustering dengan algoritma K-Means"
   ]
  },
  {
   "cell_type": "code",
   "execution_count": 46,
   "metadata": {},
   "outputs": [
    {
     "data": {
      "text/plain": [
       "array([0, 0, 0, 0, 0, 1, 0, 1, 0, 0, 1, 1, 0, 0, 0, 1, 0, 0, 1, 0, 1, 1,\n",
       "       1, 1, 0, 1, 1, 1, 1, 1, 1, 1, 0, 0, 0, 0, 0, 0, 0, 0, 0, 0, 0, 1,\n",
       "       1, 0, 0, 0, 0, 0])"
      ]
     },
     "execution_count": 46,
     "metadata": {},
     "output_type": "execute_result"
    }
   ],
   "source": [
    "kmeans = KMeans(n_clusters=2, random_state=5) # 2 clusters\n",
    "kmeans.fit(data_PCA)\n",
    "y_kmeans = kmeans.predict(data_PCA)\n",
    "y_kmeans"
   ]
  },
  {
   "cell_type": "markdown",
   "metadata": {},
   "source": [
    ">Hasil K-Means Clustering dengan nilai cluster 2 dan initialisasi titik cluster sebanyak 5. Sekalian proses melakukan testing dengan menggunakan data hasil PCA"
   ]
  },
  {
   "cell_type": "code",
   "execution_count": 47,
   "metadata": {},
   "outputs": [
    {
     "data": {
      "image/png": "[encoded data removed]",
      "text/plain": [
       "<Figure size 432x288 with 1 Axes>"
      ]
     },
     "metadata": {
      "needs_background": "light"
     },
     "output_type": "display_data"
    }
   ],
   "source": [
    "plt.scatter(data_PCA[:, 0], data_PCA[:, 1], c=y_kmeans);"
   ]
  },
  {
   "cell_type": "markdown",
   "metadata": {},
   "source": [
    ">Tampilan Persebaran data dari proses testing dokumen 0 jadi sumbu x dan dokumen 1 jadi sumbu y"
   ]
  }
 ],
 "metadata": {
  "kernelspec": {
   "display_name": "Python 3.10.4 64-bit",
   "language": "python",
   "name": "python3"
  },
  "language_info": {
   "codemirror_mode": {
    "name": "ipython",
    "version": 3
   },
   "file_extension": ".py",
   "mimetype": "text/x-python",
   "name": "python",
   "nbconvert_exporter": "python",
   "pygments_lexer": "ipython3",
   "version": "3.10.4"
  },
  "orig_nbformat": 4,
  "vscode": {
   "interpreter": {
    "hash": "52634da84371cba311ea128a5ea7cdc41ff074b781779e754b270ff9f8153cee"
   }
  }
 },
 "nbformat": 4,
 "nbformat_minor": 2
}
